{
 "cells": [
  {
   "cell_type": "markdown",
   "id": "7654b961",
   "metadata": {},
   "source": [
    "## Auditing Use Case 3\n",
    "\n",
    "In this notebook, we apply the auditing tool to the third use case: _Random forest to predict health from \"Hours worked per week\", \"Age\", \"Marital Status\", \"Occupation\", \"Industry\", \"Region\"_.\n",
    "\n",
    "We restrict the space to the seven columns `X = (\"Hours worked per week\", \"Age\", \"Marital Status\", \"Occupation\", \"Industry\", \"Region\", Health)`, and want to audit a dataset card restricting the statistics to the pairwise marginals $m(X_i,X_j)_{i\\neq j}$. This space is high dimensional, which makes the problem quite complex. \n",
    "\n",
    "We apply the methodology developed in notebook [v4] to a bunch of synthetic data generators:\n",
    "\n",
    "- Honest IPF.\n",
    "- Cheaty IPF.\n",
    "- Honest MST.\n",
    "- Cheaty MST.\n",
    "- synthgauge (cheaty by default).\n"
   ]
  },
  {
   "cell_type": "code",
   "execution_count": 1,
   "id": "879d6d4c",
   "metadata": {},
   "outputs": [],
   "source": [
    "import itertools\n",
    "import numpy as np\n",
    "import pandas as pd\n",
    "import tqdm\n",
    "import tqdm.notebook\n",
    "\n",
    "import matplotlib.pyplot as plt\n",
    "%matplotlib inline"
   ]
  },
  {
   "cell_type": "code",
   "execution_count": 2,
   "id": "ea41309f",
   "metadata": {},
   "outputs": [],
   "source": [
    "# Loads of warnings coming from the sub-methods, which we don't care about.\n",
    "import warnings\n",
    "warnings.filterwarnings(\"ignore\")"
   ]
  },
  {
   "cell_type": "code",
   "execution_count": 3,
   "id": "56415d41",
   "metadata": {},
   "outputs": [],
   "source": [
    "import auditing"
   ]
  },
  {
   "cell_type": "markdown",
   "id": "26ca3ff4",
   "metadata": {},
   "source": [
    "### Parameters of the auditing"
   ]
  },
  {
   "cell_type": "code",
   "execution_count": 4,
   "id": "fad7133e",
   "metadata": {},
   "outputs": [],
   "source": [
    "# How many times should records be duplicated in extremal datasets?\n",
    "# The higher this number, the lower the sampling error, but the computational cost is linear in num_repeats.\n",
    "num_repeats = 10  # Low!\n",
    "\n",
    "# How many points should be selected in extremal datasets?\n",
    "num_points = 10000\n",
    "\n",
    "# Note that num_repeats * num_points is the size of the extremal datasets."
   ]
  },
  {
   "cell_type": "code",
   "execution_count": 5,
   "id": "71aeac96",
   "metadata": {},
   "outputs": [],
   "source": [
    "# How many synthetic datasets should be generated for candidate selection?\n",
    "# The error most likely decreases as sqrt(num_synthetic)^{-1}, but the computational cost is linear.\n",
    "num_synthetic = 10"
   ]
  },
  {
   "cell_type": "code",
   "execution_count": 6,
   "id": "1a38a2e0",
   "metadata": {},
   "outputs": [],
   "source": [
    "# Number of datasets to generate for the second step.\n",
    "num_auditing_samples = 10"
   ]
  },
  {
   "cell_type": "markdown",
   "id": "3893de5a",
   "metadata": {},
   "source": [
    "### Data\n",
    "Load the data in a specific format (not actually needed)."
   ]
  },
  {
   "cell_type": "code",
   "execution_count": 7,
   "id": "4216a0da",
   "metadata": {},
   "outputs": [],
   "source": [
    "columns = [\"Marital Status\", \"Occupation\", \"Industry\", \"Region\", \"Hours worked per week\", \"Age\", \"Health\"]"
   ]
  },
  {
   "cell_type": "code",
   "execution_count": 8,
   "id": "68e3230f",
   "metadata": {},
   "outputs": [],
   "source": [
    "df = pd.read_csv(\n",
    "    '../../privacy-sdg-toolbox/examples/data/2011 Census Microdata Teaching File (original).csv',\n",
    ")[columns].astype('category')"
   ]
  },
  {
   "cell_type": "code",
   "execution_count": 9,
   "id": "2efe3ff3",
   "metadata": {},
   "outputs": [
    {
     "data": {
      "text/plain": [
       "Index(['Marital Status', 'Occupation', 'Industry', 'Region',\n",
       "       'Hours worked per week', 'Age', 'Health'],\n",
       "      dtype='object')"
      ]
     },
     "execution_count": 9,
     "metadata": {},
     "output_type": "execute_result"
    }
   ],
   "source": [
    "df.columns"
   ]
  },
  {
   "cell_type": "code",
   "execution_count": 10,
   "id": "3c35489b",
   "metadata": {},
   "outputs": [],
   "source": [
    "for column in df.columns:\n",
    "    df[column] = df[column].cat.codes"
   ]
  },
  {
   "cell_type": "code",
   "execution_count": 11,
   "id": "779f1d89",
   "metadata": {
    "scrolled": true
   },
   "outputs": [
    {
     "name": "stdout",
     "output_type": "stream",
     "text": [
      "Size of the space: 1560000\n"
     ]
    },
    {
     "data": {
      "text/plain": [
       "array([ 5, 10, 13, 10,  5,  8,  6], dtype=int8)"
      ]
     },
     "execution_count": 11,
     "metadata": {},
     "output_type": "execute_result"
    }
   ],
   "source": [
    "columns = list(df.columns)\n",
    "num_columns = len(df.columns)\n",
    "num_cat = df.max() + 1\n",
    "num_cat_int = num_cat.values\n",
    "print(\"Size of the space:\", np.prod(num_cat_int))\n",
    "num_cat_int"
   ]
  },
  {
   "cell_type": "code",
   "execution_count": 12,
   "id": "e65050ed",
   "metadata": {},
   "outputs": [],
   "source": [
    "metadata = [\n",
    "    {\"name\": column, \"type\": \"finite\", \"representation\": list(range(nc))}\n",
    "    for column, nc in zip(df.columns, num_cat_int)\n",
    "]"
   ]
  },
  {
   "cell_type": "code",
   "execution_count": 13,
   "id": "9998f9ea",
   "metadata": {},
   "outputs": [
    {
     "data": {
      "text/plain": [
       "[{'name': 'Marital Status',\n",
       "  'type': 'finite',\n",
       "  'representation': [0, 1, 2, 3, 4]},\n",
       " {'name': 'Occupation',\n",
       "  'type': 'finite',\n",
       "  'representation': [0, 1, 2, 3, 4, 5, 6, 7, 8, 9]},\n",
       " {'name': 'Industry',\n",
       "  'type': 'finite',\n",
       "  'representation': [0, 1, 2, 3, 4, 5, 6, 7, 8, 9, 10, 11, 12]},\n",
       " {'name': 'Region',\n",
       "  'type': 'finite',\n",
       "  'representation': [0, 1, 2, 3, 4, 5, 6, 7, 8, 9]},\n",
       " {'name': 'Hours worked per week',\n",
       "  'type': 'finite',\n",
       "  'representation': [0, 1, 2, 3, 4]},\n",
       " {'name': 'Age', 'type': 'finite', 'representation': [0, 1, 2, 3, 4, 5, 6, 7]},\n",
       " {'name': 'Health', 'type': 'finite', 'representation': [0, 1, 2, 3, 4, 5]}]"
      ]
     },
     "execution_count": 13,
     "metadata": {},
     "output_type": "execute_result"
    }
   ],
   "source": [
    "metadata"
   ]
  },
  {
   "cell_type": "markdown",
   "id": "9a22832d",
   "metadata": {},
   "source": [
    "### Linear space\n",
    "\n",
    "Define the vector space: $\\phi$ is the set of all 2-way marginals."
   ]
  },
  {
   "cell_type": "code",
   "execution_count": 14,
   "id": "62694eed",
   "metadata": {},
   "outputs": [],
   "source": [
    "def generate_kway_marginals(columns=None, k=1):\n",
    "    columns = columns or range(len(num_cat_int))\n",
    "    marginals = []\n",
    "    for combs in itertools.combinations(columns, k):\n",
    "        for values in itertools.product(*[range(num_cat_int[i]) for i in combs]):\n",
    "            marginals.append(auditing.MarginalBin(combs, values))\n",
    "    return marginals"
   ]
  },
  {
   "cell_type": "code",
   "execution_count": 15,
   "id": "e27854af",
   "metadata": {},
   "outputs": [],
   "source": [
    "phi = generate_kway_marginals(k=2)"
   ]
  },
  {
   "cell_type": "code",
   "execution_count": 16,
   "id": "bcf9f0d7",
   "metadata": {},
   "outputs": [
    {
     "data": {
      "text/plain": [
       "1365"
      ]
     },
     "execution_count": 16,
     "metadata": {},
     "output_type": "execute_result"
    }
   ],
   "source": [
    "len(phi)"
   ]
  },
  {
   "cell_type": "code",
   "execution_count": 17,
   "id": "062050cd",
   "metadata": {},
   "outputs": [],
   "source": [
    "# Write the scalar product for the whole space.\n",
    "# scalar_product = auditing.NaiveScalarProduct(num_cat_int)\n",
    "scalar_product = auditing.LinearCompositionScalarProduct(\n",
    "    auditing.HistogramScalarProduct(num_cat)\n",
    ")"
   ]
  },
  {
   "cell_type": "code",
   "execution_count": 18,
   "id": "821d1887",
   "metadata": {},
   "outputs": [
    {
     "name": "stdout",
     "output_type": "stream",
     "text": [
      "CPU times: user 21.9 s, sys: 289 ms, total: 22.2 s\n",
      "Wall time: 22.6 s\n"
     ]
    }
   ],
   "source": [
    "%%time\n",
    "# The linear space created by the known phis.\n",
    "linspan_phi = auditing.OrthogonalSpace(scalar_product, phi)"
   ]
  },
  {
   "cell_type": "code",
   "execution_count": 19,
   "id": "4c2951bd",
   "metadata": {},
   "outputs": [
    {
     "data": {
      "text/plain": [
       "1095"
      ]
     },
     "execution_count": 19,
     "metadata": {},
     "output_type": "execute_result"
    }
   ],
   "source": [
    "len(linspan_phi.basis)"
   ]
  },
  {
   "cell_type": "markdown",
   "id": "3674dadb",
   "metadata": {},
   "source": [
    "Define the candidate set $\\mathcal{C}$ of all three-way marginal bins.\n",
    "\n",
    "Note that this is too large -- let's take a subset of smaller size."
   ]
  },
  {
   "cell_type": "code",
   "execution_count": 20,
   "id": "d8c25db7",
   "metadata": {},
   "outputs": [],
   "source": [
    "C = generate_kway_marginals(k=3)"
   ]
  },
  {
   "cell_type": "code",
   "execution_count": 21,
   "id": "2cd116d1",
   "metadata": {},
   "outputs": [
    {
     "data": {
      "text/plain": [
       "17799"
      ]
     },
     "execution_count": 21,
     "metadata": {},
     "output_type": "execute_result"
    }
   ],
   "source": [
    "len(C)"
   ]
  },
  {
   "cell_type": "code",
   "execution_count": 22,
   "id": "0c6d423f",
   "metadata": {},
   "outputs": [],
   "source": [
    "C = np.random.choice(C, replace=False, size=1000)"
   ]
  },
  {
   "cell_type": "markdown",
   "id": "c05afeb0",
   "metadata": {},
   "source": [
    "Define the orthogonal space $span\\left<\\phi\\right>^\\perp \\cap \\text{span}\\left<C\\right>$. This is the typical code for this:"
   ]
  },
  {
   "cell_type": "code",
   "execution_count": 23,
   "id": "6d8fd7b6",
   "metadata": {},
   "outputs": [],
   "source": [
    "# C_perp = [linspan_phi.orthogonalise(b) for b in C]\n",
    "# linspan_phi_perp = auditing.OrthogonalSpace(scalar_product, C_perp)\n",
    "# phi_perp_basis = [auditing.refactor_linear_combination(b) for b in linspan_phi_perp.basis]"
   ]
  },
  {
   "cell_type": "markdown",
   "id": "67a62d4e",
   "metadata": {},
   "source": [
    "But we can optimise this, using the internal structure of orthogonal space."
   ]
  },
  {
   "cell_type": "code",
   "execution_count": 24,
   "id": "450eb382",
   "metadata": {},
   "outputs": [
    {
     "name": "stdout",
     "output_type": "stream",
     "text": [
      "CPU times: user 1min 21s, sys: 1.02 s, total: 1min 22s\n",
      "Wall time: 1min 23s\n"
     ]
    }
   ],
   "source": [
    "%%time\n",
    "combined_space = auditing.OrthogonalSpace(scalar_product, phi + list(C))"
   ]
  },
  {
   "cell_type": "code",
   "execution_count": 25,
   "id": "b7f0ff6c",
   "metadata": {},
   "outputs": [],
   "source": [
    "phi_perp_basis = combined_space.basis[len(linspan_phi.basis):]"
   ]
  },
  {
   "cell_type": "code",
   "execution_count": 26,
   "id": "be37efc9",
   "metadata": {},
   "outputs": [
    {
     "data": {
      "text/plain": [
       "1000"
      ]
     },
     "execution_count": 26,
     "metadata": {},
     "output_type": "execute_result"
    }
   ],
   "source": [
    "k = len(phi_perp_basis)\n",
    "k"
   ]
  },
  {
   "cell_type": "markdown",
   "id": "cf049a9c",
   "metadata": {},
   "source": [
    "### Auditing toolkit"
   ]
  },
  {
   "cell_type": "code",
   "execution_count": 27,
   "id": "8c13c853",
   "metadata": {},
   "outputs": [],
   "source": [
    "# All possible records.\n",
    "unique_records = pd.DataFrame(list(itertools.product(*[range(nc) for nc in num_cat_int])), columns=columns)"
   ]
  },
  {
   "cell_type": "code",
   "execution_count": 28,
   "id": "3a5ebcb3",
   "metadata": {},
   "outputs": [],
   "source": [
    "beta = auditing.AddedFunctions(*phi_perp_basis)\n",
    "beta = auditing.refactor_linear_combination(beta)"
   ]
  },
  {
   "cell_type": "code",
   "execution_count": 29,
   "id": "59045e1d",
   "metadata": {
    "scrolled": true
   },
   "outputs": [
    {
     "name": "stdout",
     "output_type": "stream",
     "text": [
      "CPU times: user 3min 24s, sys: 2.83 s, total: 3min 27s\n",
      "Wall time: 3min 31s\n"
     ]
    }
   ],
   "source": [
    "%%time\n",
    "auditor = auditing.Auditor(\n",
    "    phi,\n",
    "    unique_records,\n",
    "    subsample_size=num_points,\n",
    "    use_lp=False\n",
    ")"
   ]
  },
  {
   "cell_type": "markdown",
   "id": "96167b22",
   "metadata": {},
   "source": [
    "Note: we have selected 3-way marginals"
   ]
  },
  {
   "cell_type": "code",
   "execution_count": 30,
   "id": "c73ca075",
   "metadata": {},
   "outputs": [
    {
     "name": "stdout",
     "output_type": "stream",
     "text": [
      "CPU times: user 6min 47s, sys: 4min 52s, total: 11min 40s\n",
      "Wall time: 11min 48s\n"
     ]
    }
   ],
   "source": [
    "%%time\n",
    "D_minus, D_plus = auditor.generate_extremal_datasets(beta, num_repeats=num_repeats)"
   ]
  },
  {
   "cell_type": "code",
   "execution_count": 31,
   "id": "59414979",
   "metadata": {},
   "outputs": [
    {
     "data": {
      "text/plain": [
       "(99977, 7)"
      ]
     },
     "execution_count": 31,
     "metadata": {},
     "output_type": "execute_result"
    }
   ],
   "source": [
    "D_plus.shape"
   ]
  },
  {
   "cell_type": "code",
   "execution_count": 32,
   "id": "6fc00cc8",
   "metadata": {},
   "outputs": [
    {
     "data": {
      "text/plain": [
       "(99985, 7)"
      ]
     },
     "execution_count": 32,
     "metadata": {},
     "output_type": "execute_result"
    }
   ],
   "source": [
    "D_minus.shape"
   ]
  },
  {
   "cell_type": "markdown",
   "id": "5bf0e97d",
   "metadata": {},
   "source": [
    "This function selects a candidate function $g$, given a generator. It does the following:\n",
    "\n",
    "1. Compute $\\beta = \\sum_{i=1}^k b_i$ and generate a pair of extremal datasets $D^-, D^+$ for $\\beta$.\n",
    "2. Generate synthetic datatsets from these extremal datasets, $D^{s-},D^{s+}$. \n",
    "3. Compute $\\delta_i \\triangleq \\Delta^S b_i = b_i(D^{s-}) - b_i(D^{s+})$.\n",
    "4. Estimate $g$ as $\\hat{g} = \\sum_{i=1}^k \\frac{\\delta_i}{\\|\\delta\\|} b_i$.\n",
    "\n",
    "Steps 2. and 3. can be repeated several times, and $\\delta_i$ averaged over the runs, to reduce randomness."
   ]
  },
  {
   "cell_type": "code",
   "execution_count": 33,
   "id": "b896d0b7",
   "metadata": {},
   "outputs": [],
   "source": [
    "# This is the simple implementation, but very slow (the individual factors are computed many times).\n",
    "\n",
    "# def compute_delta_naive(D_synth_plus, D_synth_minus, phi_perp_basis):\n",
    "#     delta = []\n",
    "#     for b in phi_perp_basis:\n",
    "#         delta.append(b(D_synth_plus).mean() - b(D_synth_minus).mean())\n",
    "#     return delta"
   ]
  },
  {
   "cell_type": "code",
   "execution_count": 34,
   "id": "5cac8aa2",
   "metadata": {},
   "outputs": [],
   "source": [
    "def compute_delta_optimised(D_synth_plus, D_synth_minus, phi_perp_basis):\n",
    "    # Decompose each basis element in factors.\n",
    "    factored_basis = []\n",
    "    factors = set()\n",
    "    for b in phi_perp_basis:\n",
    "        lin_f = auditing.split_linear_combination(b)\n",
    "        factored_basis.append(lin_f)\n",
    "        # Add each factor in the basis to unique factors.\n",
    "        for f in lin_f.keys():\n",
    "            factors.add(f)\n",
    "    # Compute the value of each factor over the datasets.\n",
    "    # This is where the optimisation lies!\n",
    "    factor_plus = {}\n",
    "    factor_minus = {}\n",
    "    for f in factors:\n",
    "        factor_plus[f] = f(D_synth_plus).mean()\n",
    "        factor_minus[f] = f(D_synth_minus).mean()\n",
    "    # Finally, combine these answers.\n",
    "    delta = []\n",
    "    for b_factors in factored_basis:\n",
    "        b_plus = 0\n",
    "        b_minus = 0\n",
    "        for f, a in b_factors.items():\n",
    "            b_plus = b_plus + a * factor_plus[f]\n",
    "            b_minus = b_minus + a * factor_minus[f]\n",
    "        delta.append(b_plus - b_minus)\n",
    "    return delta"
   ]
  },
  {
   "cell_type": "code",
   "execution_count": 35,
   "id": "4df05503",
   "metadata": {},
   "outputs": [],
   "source": [
    "def candidate_selection(generator, num_synth):\n",
    "    # TODO: reset the auditor?\n",
    "    deltas = []\n",
    "    for repeat in tqdm.notebook.trange(num_synth):\n",
    "        D_synth_minus = generator(D_minus)\n",
    "        D_synth_plus = generator(D_plus)\n",
    "        deltas.append(compute_delta_optimised(D_synth_plus, D_synth_minus, phi_perp_basis))\n",
    "    deltas = np.mean(deltas, axis=0)\n",
    "    scale = deltas / np.linalg.norm(deltas)\n",
    "    return auditing.refactor_linear_combination(\n",
    "        auditing.AddedFunctions(*[s*b for s,b in zip(scale, phi_perp_basis)])\n",
    "    )"
   ]
  },
  {
   "cell_type": "markdown",
   "id": "509551b6",
   "metadata": {},
   "source": [
    "Bring together the results."
   ]
  },
  {
   "cell_type": "code",
   "execution_count": 14,
   "id": "40650810",
   "metadata": {},
   "outputs": [],
   "source": [
    "def auditing_plot(results, color, label):\n",
    "    x = []\n",
    "    y = []\n",
    "    df_r = pd.DataFrame(results, columns=('real', 'synth'))\n",
    "    for real, subdf in df_r.groupby('real'):\n",
    "        x.append(real)\n",
    "        y.append(subdf.synth.values.mean())\n",
    "    plt.plot(x, y, '*-', c=color, label=label)\n",
    "    x, y = zip(*results)\n",
    "    ix = np.argsort(x)\n",
    "    plt.plot(np.array(x)[ix], np.array(y)[ix], '.', c=color, ms=10, alpha=.2)"
   ]
  },
  {
   "cell_type": "code",
   "execution_count": 37,
   "id": "f40887d0",
   "metadata": {},
   "outputs": [],
   "source": [
    "def audit(generator, num_samples, label='', verbose = True):\n",
    "    if verbose:\n",
    "        print(\"[Step 1] Selecting a candidate g...\")\n",
    "    g = candidate_selection(generator, num_synth=num_synthetic)\n",
    "    if verbose:\n",
    "        print(\"[Step 2] Auditing g from D^r and D^s...\")\n",
    "    results = auditor.audit(\n",
    "        generator,\n",
    "        g,\n",
    "        num_samples=num_samples,\n",
    "        num_repeats=num_repeats,\n",
    "        iterator=tqdm.notebook.tqdm,\n",
    "    )\n",
    "    plt.figure(figsize=(7,7))\n",
    "    auditing_plot(results, 'b', label)\n",
    "    plt.xlabel(\"Value of $g(D_{input})$ for fixed $\\\\phi(D_{input})$\", fontsize=15)\n",
    "    plt.ylabel(\"Value of $g(D_{synthetic})$ generated from $D_{input}$\", fontsize=15)\n",
    "    plt.legend()\n",
    "    return g, results"
   ]
  },
  {
   "cell_type": "markdown",
   "id": "12e1e9c0",
   "metadata": {},
   "source": [
    "### Generators"
   ]
  },
  {
   "cell_type": "code",
   "execution_count": 38,
   "id": "683044eb",
   "metadata": {},
   "outputs": [
    {
     "name": "stderr",
     "output_type": "stream",
     "text": [
      "2022-11-01 16:32:35.527636: I tensorflow/core/platform/cpu_feature_guard.cc:193] This TensorFlow binary is optimized with oneAPI Deep Neural Network Library (oneDNN) to use the following CPU instructions in performance-critical operations:  AVX2 FMA\n",
      "To enable them in other operations, rebuild TensorFlow with the appropriate compiler flags.\n"
     ]
    },
    {
     "name": "stdout",
     "output_type": "stream",
     "text": [
      "WARNING:tensorflow:From /usr/local/anaconda3/envs/py310/lib/python3.10/site-packages/tensorflow/python/compat/v2_compat.py:107: disable_resource_variables (from tensorflow.python.ops.variable_scope) is deprecated and will be removed in a future version.\n",
      "Instructions for updating:\n",
      "non-resource variables are not supported in the long term\n"
     ]
    }
   ],
   "source": [
    "from reprosyn.methods import MST, SYNTHPOP\n",
    "from raw_ipf import IPF  # temporary library with optimisations."
   ]
  },
  {
   "cell_type": "code",
   "execution_count": 39,
   "id": "e9db24d6",
   "metadata": {},
   "outputs": [],
   "source": [
    "from mbi import Domain, Dataset, FactoredInference"
   ]
  },
  {
   "cell_type": "code",
   "execution_count": 40,
   "id": "84678c81",
   "metadata": {},
   "outputs": [],
   "source": [
    "correct_marginals = list(itertools.combinations(range(len(columns)), 2))"
   ]
  },
  {
   "cell_type": "code",
   "execution_count": 41,
   "id": "5ef63e0f",
   "metadata": {},
   "outputs": [],
   "source": [
    "cheat_marginals = [(0, 1, 4)]  # Arbitrary! Not sure what to do here."
   ]
  },
  {
   "cell_type": "code",
   "execution_count": 42,
   "id": "308fbc0a",
   "metadata": {},
   "outputs": [
    {
     "data": {
      "text/plain": [
       "['Marital Status', 'Occupation', 'Hours worked per week']"
      ]
     },
     "execution_count": 42,
     "metadata": {},
     "output_type": "execute_result"
    }
   ],
   "source": [
    "[columns[i] for i in cheat_marginals[0]]"
   ]
  },
  {
   "cell_type": "code",
   "execution_count": 43,
   "id": "30854901",
   "metadata": {},
   "outputs": [],
   "source": [
    "import raw_ipf\n",
    "def generate_ipf(dataset, cheat = False):\n",
    "    marginals = list(correct_marginals)\n",
    "    if cheat:\n",
    "        marginals += cheat_marginals\n",
    "    ipf = raw_ipf.IPF(\n",
    "        dataset=pd.DataFrame(dataset, columns=columns),\n",
    "        metadata=metadata,\n",
    "        size=len(dataset),\n",
    "        marginals=marginals\n",
    "    )\n",
    "    ipf.run()\n",
    "    return ipf.output.values"
   ]
  },
  {
   "cell_type": "code",
   "execution_count": 44,
   "id": "75448f39",
   "metadata": {},
   "outputs": [],
   "source": [
    "def generate_mst(dataset, cheat = False, sigma = 0.001):\n",
    "    domain = Domain(columns, num_cat_int)\n",
    "    dataset_mbi = Dataset(pd.DataFrame(dataset, columns=columns), domain)\n",
    "    # Get measurements for 1-way histogram.\n",
    "    marginals = list(correct_marginals)\n",
    "    if cheat:\n",
    "        marginals += cheat_marginals\n",
    "    marginals = [[columns[i] for i in m] for m in marginals]\n",
    "    histograms = [dataset_mbi.project(m).datavector() for m in marginals]\n",
    "    measurements = [(np.eye(h.size), h, sigma, m) for m, h in zip(marginals, histograms)]\n",
    "    # Use the MBI procedure for the rest.\n",
    "    engine = FactoredInference(domain, log=True, iters=200)\n",
    "    model = engine.estimate(measurements, engine='MD')\n",
    "    synth = model.synthetic_data(rows=len(dataset))\n",
    "    return synth.df.values"
   ]
  },
  {
   "cell_type": "code",
   "execution_count": 45,
   "id": "c0c2b906",
   "metadata": {},
   "outputs": [],
   "source": [
    "def generate_synthpop(dataset, cheat = False):\n",
    "    model = SYNTHPOP(\n",
    "        dataset=pd.DataFrame(dataset, columns=columns),\n",
    "        metadata=metadata,\n",
    "        size=len(dataset)\n",
    "    )\n",
    "    model.run()\n",
    "    return model.output.values"
   ]
  },
  {
   "cell_type": "markdown",
   "id": "498cce69",
   "metadata": {},
   "source": [
    "Grouping them together."
   ]
  },
  {
   "cell_type": "code",
   "execution_count": 55,
   "id": "eecace03",
   "metadata": {},
   "outputs": [],
   "source": [
    "# List of method name, whether it cheats, and the function.\n",
    "\n",
    "methods = [\n",
    "    (\"IPF-Honest\", False, generate_ipf),\n",
    "    (\"IPF-Cheat\", True, lambda data: generate_ipf(data, cheat=True)),\n",
    "    (\"MST-Honest\", False, generate_mst),\n",
    "    (\"MST-Cheat\", True, lambda data: generate_mst(data, cheat=True)),\n",
    "    (\"SynthPop\", True, generate_synthpop)\n",
    "]"
   ]
  },
  {
   "cell_type": "markdown",
   "id": "03aa341a",
   "metadata": {},
   "source": [
    "Run."
   ]
  },
  {
   "cell_type": "code",
   "execution_count": 47,
   "id": "b843cf0b",
   "metadata": {},
   "outputs": [],
   "source": [
    "results = []"
   ]
  },
  {
   "cell_type": "code",
   "execution_count": 56,
   "id": "6a9a1f2a",
   "metadata": {
    "scrolled": true
   },
   "outputs": [
    {
     "name": "stdout",
     "output_type": "stream",
     "text": [
      "====== MST-Honest ======\n",
      "[Step 1] Selecting a candidate g...\n"
     ]
    },
    {
     "data": {
      "application/vnd.jupyter.widget-view+json": {
       "model_id": "b532e11791f44f48b0569c9a79cf393a",
       "version_major": 2,
       "version_minor": 0
      },
      "text/plain": [
       "  0%|          | 0/10 [00:00<?, ?it/s]"
      ]
     },
     "metadata": {},
     "output_type": "display_data"
    },
    {
     "name": "stdout",
     "output_type": "stream",
     "text": [
      "Total clique size: 1560000\n",
      "iteration\t\ttime\t\tl1_loss\t\tl2_loss\t\tfeasibility\n",
      "0.00\t\t0.00\t\t123618569.23\t\t9587407127403.85\t\t0.00\n",
      "50.00\t\t19.11\t\t172823.75\t\t39916215.36\t\t0.00\n",
      "100.00\t\t37.89\t\t2101.60\t\t7869.82\t\t0.00\n",
      "150.00\t\t56.52\t\t37.54\t\t2.58\t\t0.00\n",
      "Total clique size: 1560000\n",
      "iteration\t\ttime\t\tl1_loss\t\tl2_loss\t\tfeasibility\n",
      "0.00\t\t0.00\t\t123775695.64\t\t9602463636634.62\t\t0.00\n",
      "50.00\t\t17.44\t\t159464.45\t\t38086791.29\t\t0.00\n",
      "100.00\t\t35.38\t\t1560.57\t\t6285.70\t\t0.00\n",
      "150.00\t\t53.43\t\t25.13\t\t1.94\t\t0.00\n",
      "Total clique size: 1560000\n",
      "iteration\t\ttime\t\tl1_loss\t\tl2_loss\t\tfeasibility\n",
      "0.00\t\t0.00\t\t123618569.23\t\t9587407127403.85\t\t0.00\n",
      "50.00\t\t19.04\t\t172823.75\t\t39916215.36\t\t0.00\n",
      "100.00\t\t38.33\t\t2101.60\t\t7869.82\t\t0.00\n",
      "150.00\t\t57.81\t\t37.54\t\t2.58\t\t0.00\n",
      "Total clique size: 1560000\n",
      "iteration\t\ttime\t\tl1_loss\t\tl2_loss\t\tfeasibility\n",
      "0.00\t\t0.00\t\t123775695.64\t\t9602463636634.62\t\t0.00\n",
      "50.00\t\t17.92\t\t159464.45\t\t38086791.29\t\t0.00\n",
      "100.00\t\t35.91\t\t1560.57\t\t6285.70\t\t0.00\n",
      "150.00\t\t53.81\t\t25.13\t\t1.94\t\t0.00\n",
      "Total clique size: 1560000\n",
      "iteration\t\ttime\t\tl1_loss\t\tl2_loss\t\tfeasibility\n",
      "0.00\t\t0.00\t\t123618569.23\t\t9587407127403.85\t\t0.00\n",
      "50.00\t\t17.29\t\t172823.75\t\t39916215.36\t\t0.00\n",
      "100.00\t\t34.89\t\t2101.60\t\t7869.82\t\t0.00\n",
      "150.00\t\t52.84\t\t37.54\t\t2.58\t\t0.00\n",
      "Total clique size: 1560000\n",
      "iteration\t\ttime\t\tl1_loss\t\tl2_loss\t\tfeasibility\n",
      "0.00\t\t0.00\t\t123775695.64\t\t9602463636634.62\t\t0.00\n",
      "50.00\t\t17.27\t\t159464.45\t\t38086791.29\t\t0.00\n",
      "100.00\t\t35.23\t\t1560.57\t\t6285.70\t\t0.00\n",
      "150.00\t\t53.25\t\t25.13\t\t1.94\t\t0.00\n",
      "Total clique size: 1560000\n",
      "iteration\t\ttime\t\tl1_loss\t\tl2_loss\t\tfeasibility\n",
      "0.00\t\t0.00\t\t123618569.23\t\t9587407127403.85\t\t0.00\n",
      "50.00\t\t17.12\t\t172823.75\t\t39916215.36\t\t0.00\n",
      "100.00\t\t34.74\t\t2101.60\t\t7869.82\t\t0.00\n",
      "150.00\t\t52.75\t\t37.54\t\t2.58\t\t0.00\n",
      "Total clique size: 1560000\n",
      "iteration\t\ttime\t\tl1_loss\t\tl2_loss\t\tfeasibility\n",
      "0.00\t\t0.00\t\t123775695.64\t\t9602463636634.62\t\t0.00\n",
      "50.00\t\t17.25\t\t159464.45\t\t38086791.29\t\t0.00\n",
      "100.00\t\t35.18\t\t1560.57\t\t6285.70\t\t0.00\n",
      "150.00\t\t53.27\t\t25.13\t\t1.94\t\t0.00\n",
      "Total clique size: 1560000\n",
      "iteration\t\ttime\t\tl1_loss\t\tl2_loss\t\tfeasibility\n",
      "0.00\t\t0.00\t\t123618569.23\t\t9587407127403.85\t\t0.00\n",
      "50.00\t\t17.18\t\t172823.75\t\t39916215.36\t\t0.00\n",
      "100.00\t\t34.85\t\t2101.60\t\t7869.82\t\t0.00\n",
      "150.00\t\t52.97\t\t37.54\t\t2.58\t\t0.00\n",
      "Total clique size: 1560000\n",
      "iteration\t\ttime\t\tl1_loss\t\tl2_loss\t\tfeasibility\n",
      "0.00\t\t0.00\t\t123775695.64\t\t9602463636634.62\t\t0.00\n",
      "50.00\t\t17.24\t\t159464.45\t\t38086791.29\t\t0.00\n",
      "100.00\t\t35.11\t\t1560.57\t\t6285.70\t\t0.00\n",
      "150.00\t\t53.20\t\t25.13\t\t1.94\t\t0.00\n",
      "Total clique size: 1560000\n",
      "iteration\t\ttime\t\tl1_loss\t\tl2_loss\t\tfeasibility\n",
      "0.00\t\t0.00\t\t123618569.23\t\t9587407127403.85\t\t0.00\n",
      "50.00\t\t17.27\t\t172823.75\t\t39916215.36\t\t0.00\n",
      "100.00\t\t34.98\t\t2101.60\t\t7869.82\t\t0.00\n",
      "150.00\t\t53.30\t\t37.54\t\t2.58\t\t0.00\n",
      "Total clique size: 1560000\n",
      "iteration\t\ttime\t\tl1_loss\t\tl2_loss\t\tfeasibility\n",
      "0.00\t\t0.00\t\t123775695.64\t\t9602463636634.62\t\t0.00\n",
      "50.00\t\t17.38\t\t159464.45\t\t38086791.29\t\t0.00\n",
      "100.00\t\t35.53\t\t1560.57\t\t6285.70\t\t0.00\n",
      "150.00\t\t53.83\t\t25.13\t\t1.94\t\t0.00\n",
      "Total clique size: 1560000\n",
      "iteration\t\ttime\t\tl1_loss\t\tl2_loss\t\tfeasibility\n",
      "0.00\t\t0.00\t\t123618569.23\t\t9587407127403.85\t\t0.00\n",
      "50.00\t\t17.40\t\t172823.75\t\t39916215.36\t\t0.00\n",
      "100.00\t\t35.28\t\t2101.60\t\t7869.82\t\t0.00\n",
      "150.00\t\t53.39\t\t37.54\t\t2.58\t\t0.00\n",
      "Total clique size: 1560000\n",
      "iteration\t\ttime\t\tl1_loss\t\tl2_loss\t\tfeasibility\n",
      "0.00\t\t0.00\t\t123775695.64\t\t9602463636634.62\t\t0.00\n",
      "50.00\t\t17.30\t\t159464.45\t\t38086791.29\t\t0.00\n",
      "100.00\t\t35.55\t\t1560.57\t\t6285.70\t\t0.00\n",
      "150.00\t\t54.30\t\t25.13\t\t1.94\t\t0.00\n",
      "Total clique size: 1560000\n",
      "iteration\t\ttime\t\tl1_loss\t\tl2_loss\t\tfeasibility\n",
      "0.00\t\t0.00\t\t123618569.23\t\t9587407127403.85\t\t0.00\n",
      "50.00\t\t19.60\t\t172823.75\t\t39916215.36\t\t0.00\n",
      "100.00\t\t41.20\t\t2101.60\t\t7869.82\t\t0.00\n",
      "150.00\t\t62.95\t\t37.54\t\t2.58\t\t0.00\n",
      "Total clique size: 1560000\n",
      "iteration\t\ttime\t\tl1_loss\t\tl2_loss\t\tfeasibility\n",
      "0.00\t\t0.00\t\t123775695.64\t\t9602463636634.62\t\t0.00\n",
      "50.00\t\t18.78\t\t159464.45\t\t38086791.29\t\t0.00\n",
      "100.00\t\t37.70\t\t1560.57\t\t6285.70\t\t0.00\n",
      "150.00\t\t414.64\t\t25.13\t\t1.94\t\t0.00\n",
      "Total clique size: 1560000\n",
      "iteration\t\ttime\t\tl1_loss\t\tl2_loss\t\tfeasibility\n",
      "0.00\t\t0.00\t\t123618569.23\t\t9587407127403.85\t\t0.00\n",
      "50.00\t\t20.69\t\t172823.75\t\t39916215.36\t\t0.00\n",
      "100.00\t\t39.28\t\t2101.60\t\t7869.82\t\t0.00\n",
      "150.00\t\t57.31\t\t37.54\t\t2.58\t\t0.00\n",
      "Total clique size: 1560000\n",
      "iteration\t\ttime\t\tl1_loss\t\tl2_loss\t\tfeasibility\n",
      "0.00\t\t0.00\t\t123775695.64\t\t9602463636634.62\t\t0.00\n",
      "50.00\t\t18.07\t\t159464.45\t\t38086791.29\t\t0.00\n",
      "100.00\t\t36.11\t\t1560.57\t\t6285.70\t\t0.00\n",
      "150.00\t\t54.28\t\t25.13\t\t1.94\t\t0.00\n",
      "Total clique size: 1560000\n",
      "iteration\t\ttime\t\tl1_loss\t\tl2_loss\t\tfeasibility\n",
      "0.00\t\t0.00\t\t123618569.23\t\t9587407127403.85\t\t0.00\n",
      "50.00\t\t17.84\t\t172823.75\t\t39916215.36\t\t0.00\n",
      "100.00\t\t35.68\t\t2101.60\t\t7869.82\t\t0.00\n",
      "150.00\t\t53.67\t\t37.54\t\t2.58\t\t0.00\n",
      "Total clique size: 1560000\n",
      "iteration\t\ttime\t\tl1_loss\t\tl2_loss\t\tfeasibility\n",
      "0.00\t\t0.00\t\t123775695.64\t\t9602463636634.62\t\t0.00\n",
      "50.00\t\t17.69\t\t159464.45\t\t38086791.29\t\t0.00\n",
      "100.00\t\t35.62\t\t1560.57\t\t6285.70\t\t0.00\n",
      "150.00\t\t53.44\t\t25.13\t\t1.94\t\t0.00\n",
      "[Step 2] Auditing g from D^r and D^s...\n"
     ]
    },
    {
     "data": {
      "application/vnd.jupyter.widget-view+json": {
       "model_id": "5f7bca1c6b204245be794b136624ccf2",
       "version_major": 2,
       "version_minor": 0
      },
      "text/plain": [
       "  0%|          | 0/10 [00:00<?, ?it/s]"
      ]
     },
     "metadata": {},
     "output_type": "display_data"
    },
    {
     "name": "stdout",
     "output_type": "stream",
     "text": [
      "Total clique size: 1560000\n",
      "iteration\t\ttime\t\tl1_loss\t\tl2_loss\t\tfeasibility\n",
      "0.00\t\t0.00\t\t123876736.92\t\t9607684703461.54\t\t0.00\n",
      "50.00\t\t19.14\t\t160652.41\t\t37652190.39\t\t0.00\n",
      "100.00\t\t37.78\t\t2039.50\t\t7029.62\t\t0.00\n",
      "150.00\t\t56.89\t\t35.58\t\t2.28\t\t0.00\n",
      "Total clique size: 1560000\n",
      "iteration\t\ttime\t\tl1_loss\t\tl2_loss\t\tfeasibility\n",
      "0.00\t\t0.00\t\t123876736.92\t\t9607684703461.54\t\t0.00\n",
      "50.00\t\t17.90\t\t160652.41\t\t37652190.39\t\t0.00\n",
      "100.00\t\t35.97\t\t2039.50\t\t7029.62\t\t0.00\n",
      "150.00\t\t54.27\t\t35.58\t\t2.28\t\t0.00\n",
      "Total clique size: 1560000\n",
      "iteration\t\ttime\t\tl1_loss\t\tl2_loss\t\tfeasibility\n",
      "0.00\t\t0.00\t\t123876736.92\t\t9607684703461.54\t\t0.00\n",
      "50.00\t\t17.51\t\t160652.41\t\t37652190.39\t\t0.00\n",
      "100.00\t\t35.18\t\t2039.50\t\t7029.62\t\t0.00\n",
      "150.00\t\t53.05\t\t35.58\t\t2.28\t\t0.00\n",
      "Total clique size: 1560000\n",
      "iteration\t\ttime\t\tl1_loss\t\tl2_loss\t\tfeasibility\n",
      "0.00\t\t0.00\t\t123876736.92\t\t9607684703461.54\t\t0.00\n",
      "50.00\t\t17.27\t\t160652.41\t\t37652190.39\t\t0.00\n",
      "100.00\t\t34.96\t\t2039.50\t\t7029.62\t\t0.00\n",
      "150.00\t\t52.69\t\t35.58\t\t2.28\t\t0.00\n",
      "Total clique size: 1560000\n",
      "iteration\t\ttime\t\tl1_loss\t\tl2_loss\t\tfeasibility\n",
      "0.00\t\t0.00\t\t123876736.92\t\t9607684703461.54\t\t0.00\n",
      "50.00\t\t17.28\t\t160652.41\t\t37652190.39\t\t0.00\n",
      "100.00\t\t34.94\t\t2039.50\t\t7029.62\t\t0.00\n",
      "150.00\t\t52.62\t\t35.58\t\t2.28\t\t0.00\n",
      "Total clique size: 1560000\n",
      "iteration\t\ttime\t\tl1_loss\t\tl2_loss\t\tfeasibility\n",
      "0.00\t\t0.00\t\t123876736.92\t\t9607684703461.54\t\t0.00\n",
      "50.00\t\t17.27\t\t160652.41\t\t37652190.39\t\t0.00\n",
      "100.00\t\t34.81\t\t2039.50\t\t7029.62\t\t0.00\n",
      "150.00\t\t52.53\t\t35.58\t\t2.28\t\t0.00\n",
      "Total clique size: 1560000\n",
      "iteration\t\ttime\t\tl1_loss\t\tl2_loss\t\tfeasibility\n",
      "0.00\t\t0.00\t\t123876736.92\t\t9607684703461.54\t\t0.00\n",
      "50.00\t\t19.00\t\t160652.41\t\t37652190.39\t\t0.00\n",
      "100.00\t\t37.33\t\t2039.50\t\t7029.62\t\t0.00\n",
      "150.00\t\t56.09\t\t35.58\t\t2.28\t\t0.00\n",
      "Total clique size: 1560000\n",
      "iteration\t\ttime\t\tl1_loss\t\tl2_loss\t\tfeasibility\n",
      "0.00\t\t0.00\t\t123876736.92\t\t9607684703461.54\t\t0.00\n",
      "50.00\t\t16.83\t\t160652.41\t\t37652190.39\t\t0.00\n",
      "100.00\t\t33.80\t\t2039.50\t\t7029.62\t\t0.00\n",
      "150.00\t\t56.38\t\t35.58\t\t2.28\t\t0.00\n",
      "Total clique size: 1560000\n",
      "iteration\t\ttime\t\tl1_loss\t\tl2_loss\t\tfeasibility\n",
      "0.00\t\t0.00\t\t123876736.92\t\t9607684703461.54\t\t0.00\n",
      "50.00\t\t20.97\t\t160652.41\t\t37652190.39\t\t0.00\n",
      "100.00\t\t40.95\t\t2039.50\t\t7029.62\t\t0.00\n",
      "150.00\t\t61.57\t\t35.58\t\t2.28\t\t0.00\n",
      "Total clique size: 1560000\n",
      "iteration\t\ttime\t\tl1_loss\t\tl2_loss\t\tfeasibility\n",
      "0.00\t\t0.00\t\t123876736.92\t\t9607684703461.54\t\t0.00\n",
      "50.00\t\t22.34\t\t160652.41\t\t37652190.39\t\t0.00\n",
      "100.00\t\t43.16\t\t2039.50\t\t7029.62\t\t0.00\n",
      "150.00\t\t63.92\t\t35.58\t\t2.28\t\t0.00\n"
     ]
    },
    {
     "data": {
      "application/vnd.jupyter.widget-view+json": {
       "model_id": "f691e24faec0485fb1ccc5e20b64b9ab",
       "version_major": 2,
       "version_minor": 0
      },
      "text/plain": [
       "  0%|          | 0/10 [00:00<?, ?it/s]"
      ]
     },
     "metadata": {},
     "output_type": "display_data"
    },
    {
     "name": "stdout",
     "output_type": "stream",
     "text": [
      "Total clique size: 1560000\n",
      "iteration\t\ttime\t\tl1_loss\t\tl2_loss\t\tfeasibility\n",
      "0.00\t\t0.00\t\t123575218.08\t\t9591476637403.85\t\t0.00\n",
      "50.00\t\t21.67\t\t173487.18\t\t39553298.58\t\t0.00\n",
      "100.00\t\t42.85\t\t2059.25\t\t7536.17\t\t0.00\n",
      "150.00\t\t63.60\t\t35.75\t\t2.37\t\t0.00\n",
      "Total clique size: 1560000\n",
      "iteration\t\ttime\t\tl1_loss\t\tl2_loss\t\tfeasibility\n",
      "0.00\t\t0.00\t\t123575218.08\t\t9591476637403.85\t\t0.00\n",
      "50.00\t\t18.30\t\t173487.18\t\t39553298.58\t\t0.00\n",
      "100.00\t\t38.34\t\t2059.25\t\t7536.17\t\t0.00\n",
      "150.00\t\t60.47\t\t35.75\t\t2.37\t\t0.00\n",
      "Total clique size: 1560000\n",
      "iteration\t\ttime\t\tl1_loss\t\tl2_loss\t\tfeasibility\n",
      "0.00\t\t0.00\t\t123575218.08\t\t9591476637403.85\t\t0.00\n",
      "50.00\t\t20.84\t\t173487.18\t\t39553298.58\t\t0.00\n",
      "100.00\t\t41.54\t\t2059.25\t\t7536.17\t\t0.00\n",
      "150.00\t\t62.52\t\t35.75\t\t2.37\t\t0.00\n",
      "Total clique size: 1560000\n",
      "iteration\t\ttime\t\tl1_loss\t\tl2_loss\t\tfeasibility\n",
      "0.00\t\t0.00\t\t123575218.08\t\t9591476637403.85\t\t0.00\n",
      "50.00\t\t21.12\t\t173487.18\t\t39553298.58\t\t0.00\n",
      "100.00\t\t41.89\t\t2059.25\t\t7536.17\t\t0.00\n",
      "150.00\t\t62.87\t\t35.75\t\t2.37\t\t0.00\n",
      "Total clique size: 1560000\n",
      "iteration\t\ttime\t\tl1_loss\t\tl2_loss\t\tfeasibility\n",
      "0.00\t\t0.00\t\t123575218.08\t\t9591476637403.85\t\t0.00\n",
      "50.00\t\t20.77\t\t173487.18\t\t39553298.58\t\t0.00\n",
      "100.00\t\t41.55\t\t2059.25\t\t7536.17\t\t0.00\n",
      "150.00\t\t62.68\t\t35.75\t\t2.37\t\t0.00\n",
      "Total clique size: 1560000\n",
      "iteration\t\ttime\t\tl1_loss\t\tl2_loss\t\tfeasibility\n",
      "0.00\t\t0.00\t\t123575218.08\t\t9591476637403.85\t\t0.00\n",
      "50.00\t\t20.79\t\t173487.18\t\t39553298.58\t\t0.00\n",
      "100.00\t\t42.01\t\t2059.25\t\t7536.17\t\t0.00\n",
      "150.00\t\t63.82\t\t35.75\t\t2.37\t\t0.00\n",
      "Total clique size: 1560000\n",
      "iteration\t\ttime\t\tl1_loss\t\tl2_loss\t\tfeasibility\n",
      "0.00\t\t0.00\t\t123575218.08\t\t9591476637403.85\t\t0.00\n",
      "50.00\t\t21.02\t\t173487.18\t\t39553298.58\t\t0.00\n",
      "100.00\t\t41.73\t\t2059.25\t\t7536.17\t\t0.00\n",
      "150.00\t\t63.16\t\t35.75\t\t2.37\t\t0.00\n",
      "Total clique size: 1560000\n",
      "iteration\t\ttime\t\tl1_loss\t\tl2_loss\t\tfeasibility\n",
      "0.00\t\t0.00\t\t123575218.08\t\t9591476637403.85\t\t0.00\n",
      "50.00\t\t20.77\t\t173487.18\t\t39553298.58\t\t0.00\n",
      "100.00\t\t41.34\t\t2059.25\t\t7536.17\t\t0.00\n",
      "150.00\t\t62.66\t\t35.75\t\t2.37\t\t0.00\n",
      "Total clique size: 1560000\n",
      "iteration\t\ttime\t\tl1_loss\t\tl2_loss\t\tfeasibility\n",
      "0.00\t\t0.00\t\t123575218.08\t\t9591476637403.85\t\t0.00\n",
      "50.00\t\t21.07\t\t173487.18\t\t39553298.58\t\t0.00\n",
      "100.00\t\t42.64\t\t2059.25\t\t7536.17\t\t0.00\n",
      "150.00\t\t64.56\t\t35.75\t\t2.37\t\t0.00\n",
      "Total clique size: 1560000\n",
      "iteration\t\ttime\t\tl1_loss\t\tl2_loss\t\tfeasibility\n",
      "0.00\t\t0.00\t\t123575218.08\t\t9591476637403.85\t\t0.00\n",
      "50.00\t\t20.84\t\t173487.18\t\t39553298.58\t\t0.00\n",
      "100.00\t\t43.17\t\t2059.25\t\t7536.17\t\t0.00\n",
      "150.00\t\t64.22\t\t35.75\t\t2.37\t\t0.00\n",
      "\n",
      "\n",
      "====== MST-Cheat ======\n",
      "[Step 1] Selecting a candidate g...\n"
     ]
    },
    {
     "data": {
      "application/vnd.jupyter.widget-view+json": {
       "model_id": "ac8e487321bd4681ba0933d24292ede7",
       "version_major": 2,
       "version_minor": 0
      },
      "text/plain": [
       "  0%|          | 0/10 [00:00<?, ?it/s]"
      ]
     },
     "metadata": {},
     "output_type": "display_data"
    },
    {
     "name": "stdout",
     "output_type": "stream",
     "text": [
      "Total clique size: 1560000\n",
      "iteration\t\ttime\t\tl1_loss\t\tl2_loss\t\tfeasibility\n",
      "0.00\t\t0.00\t\t136445929.23\t\t10099796177403.85\t\t0.00\n",
      "50.00\t\t21.15\t\t1040899.34\t\t1734488026.96\t\t0.00\n",
      "100.00\t\t42.18\t\t102055.27\t\t17267274.99\t\t0.00\n",
      "150.00\t\t64.37\t\t10700.02\t\t231983.40\t\t0.00\n",
      "Total clique size: 1560000\n",
      "iteration\t\ttime\t\tl1_loss\t\tl2_loss\t\tfeasibility\n",
      "0.00\t\t0.00\t\t136501431.64\t\t10101305078634.62\t\t0.00\n",
      "50.00\t\t20.52\t\t992653.26\t\t1557111752.70\t\t0.00\n",
      "100.00\t\t41.90\t\t79197.56\t\t13696304.49\t\t0.00\n",
      "150.00\t\t63.89\t\t8268.71\t\t199635.57\t\t0.00\n",
      "Total clique size: 1560000\n",
      "iteration\t\ttime\t\tl1_loss\t\tl2_loss\t\tfeasibility\n",
      "0.00\t\t0.00\t\t136445929.23\t\t10099796177403.85\t\t0.00\n",
      "50.00\t\t21.70\t\t1040899.34\t\t1734488026.96\t\t0.00\n",
      "100.00\t\t43.10\t\t102055.27\t\t17267274.99\t\t0.00\n",
      "150.00\t\t64.88\t\t10700.02\t\t231983.40\t\t0.00\n",
      "Total clique size: 1560000\n",
      "iteration\t\ttime\t\tl1_loss\t\tl2_loss\t\tfeasibility\n",
      "0.00\t\t0.00\t\t136501431.64\t\t10101305078634.62\t\t0.00\n",
      "50.00\t\t21.60\t\t992653.26\t\t1557111752.70\t\t0.00\n",
      "100.00\t\t41.81\t\t79197.56\t\t13696304.49\t\t0.00\n",
      "150.00\t\t63.46\t\t8268.71\t\t199635.57\t\t0.00\n",
      "Total clique size: 1560000\n",
      "iteration\t\ttime\t\tl1_loss\t\tl2_loss\t\tfeasibility\n",
      "0.00\t\t0.00\t\t136445929.23\t\t10099796177403.85\t\t0.00\n",
      "50.00\t\t20.88\t\t1040899.34\t\t1734488026.96\t\t0.00\n",
      "100.00\t\t42.09\t\t102055.27\t\t17267274.99\t\t0.00\n",
      "150.00\t\t62.64\t\t10700.02\t\t231983.40\t\t0.00\n",
      "Total clique size: 1560000\n",
      "iteration\t\ttime\t\tl1_loss\t\tl2_loss\t\tfeasibility\n",
      "0.00\t\t0.00\t\t136501431.64\t\t10101305078634.62\t\t0.00\n",
      "50.00\t\t21.08\t\t992653.26\t\t1557111752.70\t\t0.00\n",
      "100.00\t\t43.03\t\t79197.56\t\t13696304.49\t\t0.00\n",
      "150.00\t\t64.70\t\t8268.71\t\t199635.57\t\t0.00\n",
      "Total clique size: 1560000\n",
      "iteration\t\ttime\t\tl1_loss\t\tl2_loss\t\tfeasibility\n",
      "0.00\t\t0.00\t\t136445929.23\t\t10099796177403.85\t\t0.00\n",
      "50.00\t\t19.99\t\t1040899.34\t\t1734488026.96\t\t0.00\n",
      "100.00\t\t39.91\t\t102055.27\t\t17267274.99\t\t0.00\n",
      "150.00\t\t61.49\t\t10700.02\t\t231983.40\t\t0.00\n",
      "Total clique size: 1560000\n",
      "iteration\t\ttime\t\tl1_loss\t\tl2_loss\t\tfeasibility\n",
      "0.00\t\t0.00\t\t136501431.64\t\t10101305078634.62\t\t0.00\n",
      "50.00\t\t21.71\t\t992653.26\t\t1557111752.70\t\t0.00\n",
      "100.00\t\t43.27\t\t79197.56\t\t13696304.49\t\t0.00\n",
      "150.00\t\t65.05\t\t8268.71\t\t199635.57\t\t0.00\n",
      "Total clique size: 1560000\n",
      "iteration\t\ttime\t\tl1_loss\t\tl2_loss\t\tfeasibility\n",
      "0.00\t\t0.00\t\t136445929.23\t\t10099796177403.85\t\t0.00\n",
      "50.00\t\t21.56\t\t1040899.34\t\t1734488026.96\t\t0.00\n",
      "100.00\t\t42.84\t\t102055.27\t\t17267274.99\t\t0.00\n",
      "150.00\t\t65.82\t\t10700.02\t\t231983.40\t\t0.00\n",
      "Total clique size: 1560000\n",
      "iteration\t\ttime\t\tl1_loss\t\tl2_loss\t\tfeasibility\n",
      "0.00\t\t0.00\t\t136501431.64\t\t10101305078634.62\t\t0.00\n",
      "50.00\t\t22.05\t\t992653.26\t\t1557111752.70\t\t0.00\n",
      "100.00\t\t44.46\t\t79197.56\t\t13696304.49\t\t0.00\n",
      "150.00\t\t65.36\t\t8268.71\t\t199635.57\t\t0.00\n",
      "Total clique size: 1560000\n",
      "iteration\t\ttime\t\tl1_loss\t\tl2_loss\t\tfeasibility\n",
      "0.00\t\t0.00\t\t136445929.23\t\t10099796177403.85\t\t0.00\n",
      "50.00\t\t21.49\t\t1040899.34\t\t1734488026.96\t\t0.00\n",
      "100.00\t\t42.71\t\t102055.27\t\t17267274.99\t\t0.00\n",
      "150.00\t\t64.47\t\t10700.02\t\t231983.40\t\t0.00\n",
      "Total clique size: 1560000\n",
      "iteration\t\ttime\t\tl1_loss\t\tl2_loss\t\tfeasibility\n",
      "0.00\t\t0.00\t\t136501431.64\t\t10101305078634.62\t\t0.00\n",
      "50.00\t\t20.89\t\t992653.26\t\t1557111752.70\t\t0.00\n",
      "100.00\t\t42.75\t\t79197.56\t\t13696304.49\t\t0.00\n",
      "150.00\t\t67.10\t\t8268.71\t\t199635.57\t\t0.00\n",
      "Total clique size: 1560000\n",
      "iteration\t\ttime\t\tl1_loss\t\tl2_loss\t\tfeasibility\n",
      "0.00\t\t0.00\t\t136445929.23\t\t10099796177403.85\t\t0.00\n",
      "50.00\t\t21.20\t\t1040899.34\t\t1734488026.96\t\t0.00\n",
      "100.00\t\t41.67\t\t102055.27\t\t17267274.99\t\t0.00\n",
      "150.00\t\t61.95\t\t10700.02\t\t231983.40\t\t0.00\n",
      "Total clique size: 1560000\n",
      "iteration\t\ttime\t\tl1_loss\t\tl2_loss\t\tfeasibility\n",
      "0.00\t\t0.00\t\t136501431.64\t\t10101305078634.62\t\t0.00\n",
      "50.00\t\t20.93\t\t992653.26\t\t1557111752.70\t\t0.00\n",
      "100.00\t\t41.40\t\t79197.56\t\t13696304.49\t\t0.00\n",
      "150.00\t\t63.24\t\t8268.71\t\t199635.57\t\t0.00\n",
      "Total clique size: 1560000\n",
      "iteration\t\ttime\t\tl1_loss\t\tl2_loss\t\tfeasibility\n",
      "0.00\t\t0.00\t\t136445929.23\t\t10099796177403.85\t\t0.00\n",
      "50.00\t\t20.99\t\t1040899.34\t\t1734488026.96\t\t0.00\n",
      "100.00\t\t42.18\t\t102055.27\t\t17267274.99\t\t0.00\n",
      "150.00\t\t64.59\t\t10700.02\t\t231983.40\t\t0.00\n",
      "Total clique size: 1560000\n",
      "iteration\t\ttime\t\tl1_loss\t\tl2_loss\t\tfeasibility\n",
      "0.00\t\t0.00\t\t136501431.64\t\t10101305078634.62\t\t0.00\n",
      "50.00\t\t20.79\t\t992653.26\t\t1557111752.70\t\t0.00\n",
      "100.00\t\t42.26\t\t79197.56\t\t13696304.49\t\t0.00\n",
      "150.00\t\t65.09\t\t8268.71\t\t199635.57\t\t0.00\n",
      "Total clique size: 1560000\n",
      "iteration\t\ttime\t\tl1_loss\t\tl2_loss\t\tfeasibility\n",
      "0.00\t\t0.00\t\t136445929.23\t\t10099796177403.85\t\t0.00\n",
      "50.00\t\t21.46\t\t1040899.34\t\t1734488026.96\t\t0.00\n",
      "100.00\t\t42.36\t\t102055.27\t\t17267274.99\t\t0.00\n",
      "150.00\t\t65.20\t\t10700.02\t\t231983.40\t\t0.00\n",
      "Total clique size: 1560000\n",
      "iteration\t\ttime\t\tl1_loss\t\tl2_loss\t\tfeasibility\n",
      "0.00\t\t0.00\t\t136501431.64\t\t10101305078634.62\t\t0.00\n",
      "50.00\t\t20.98\t\t992653.26\t\t1557111752.70\t\t0.00\n",
      "100.00\t\t45.41\t\t79197.56\t\t13696304.49\t\t0.00\n",
      "150.00\t\t68.83\t\t8268.71\t\t199635.57\t\t0.00\n",
      "Total clique size: 1560000\n",
      "iteration\t\ttime\t\tl1_loss\t\tl2_loss\t\tfeasibility\n",
      "0.00\t\t0.00\t\t136445929.23\t\t10099796177403.85\t\t0.00\n",
      "50.00\t\t22.10\t\t1040899.34\t\t1734488026.96\t\t0.00\n",
      "100.00\t\t43.41\t\t102055.27\t\t17267274.99\t\t0.00\n",
      "150.00\t\t65.13\t\t10700.02\t\t231983.40\t\t0.00\n",
      "Total clique size: 1560000\n",
      "iteration\t\ttime\t\tl1_loss\t\tl2_loss\t\tfeasibility\n",
      "0.00\t\t0.00\t\t136501431.64\t\t10101305078634.62\t\t0.00\n",
      "50.00\t\t22.16\t\t992653.26\t\t1557111752.70\t\t0.00\n",
      "100.00\t\t46.69\t\t79197.56\t\t13696304.49\t\t0.00\n",
      "150.00\t\t69.66\t\t8268.71\t\t199635.57\t\t0.00\n",
      "[Step 2] Auditing g from D^r and D^s...\n"
     ]
    },
    {
     "data": {
      "application/vnd.jupyter.widget-view+json": {
       "model_id": "f110f16babbe415b825b2eef0328970e",
       "version_major": 2,
       "version_minor": 0
      },
      "text/plain": [
       "  0%|          | 0/10 [00:00<?, ?it/s]"
      ]
     },
     "metadata": {},
     "output_type": "display_data"
    },
    {
     "name": "stdout",
     "output_type": "stream",
     "text": [
      "Total clique size: 1560000\n",
      "iteration\t\ttime\t\tl1_loss\t\tl2_loss\t\tfeasibility\n",
      "0.00\t\t0.00\t\t140843776.00\t\t10566738717615.38\t\t0.00\n",
      "50.00\t\t21.14\t\t2272926.21\t\t8758707372.71\t\t0.00\n",
      "100.00\t\t42.50\t\t387740.63\t\t349806895.83\t\t0.00\n",
      "150.00\t\t63.81\t\t76533.64\t\t21567964.89\t\t0.00\n",
      "Total clique size: 1560000\n",
      "iteration\t\ttime\t\tl1_loss\t\tl2_loss\t\tfeasibility\n",
      "0.00\t\t0.00\t\t140843776.00\t\t10566738717615.38\t\t0.00\n",
      "50.00\t\t20.18\t\t2272926.21\t\t8758707372.71\t\t0.00\n",
      "100.00\t\t41.80\t\t387740.63\t\t349806895.83\t\t0.00\n",
      "150.00\t\t63.13\t\t76533.64\t\t21567964.89\t\t0.00\n",
      "Total clique size: 1560000\n",
      "iteration\t\ttime\t\tl1_loss\t\tl2_loss\t\tfeasibility\n",
      "0.00\t\t0.00\t\t140843776.00\t\t10566738717615.38\t\t0.00\n",
      "50.00\t\t21.01\t\t2272926.21\t\t8758707372.71\t\t0.00\n",
      "100.00\t\t42.35\t\t387740.63\t\t349806895.83\t\t0.00\n",
      "150.00\t\t64.23\t\t76533.64\t\t21567964.89\t\t0.00\n",
      "Total clique size: 1560000\n",
      "iteration\t\ttime\t\tl1_loss\t\tl2_loss\t\tfeasibility\n",
      "0.00\t\t0.00\t\t140843776.00\t\t10566738717615.38\t\t0.00\n",
      "50.00\t\t21.20\t\t2272926.21\t\t8758707372.71\t\t0.00\n",
      "100.00\t\t42.78\t\t387740.63\t\t349806895.83\t\t0.00\n",
      "150.00\t\t64.10\t\t76533.64\t\t21567964.89\t\t0.00\n",
      "Total clique size: 1560000\n",
      "iteration\t\ttime\t\tl1_loss\t\tl2_loss\t\tfeasibility\n",
      "0.00\t\t0.00\t\t140843776.00\t\t10566738717615.38\t\t0.00\n",
      "50.00\t\t20.75\t\t2272926.21\t\t8758707372.71\t\t0.00\n",
      "100.00\t\t42.25\t\t387740.63\t\t349806895.83\t\t0.00\n",
      "150.00\t\t64.05\t\t76533.64\t\t21567964.89\t\t0.00\n",
      "Total clique size: 1560000\n",
      "iteration\t\ttime\t\tl1_loss\t\tl2_loss\t\tfeasibility\n",
      "0.00\t\t0.00\t\t140843776.00\t\t10566738717615.38\t\t0.00\n",
      "50.00\t\t21.09\t\t2272926.21\t\t8758707372.71\t\t0.00\n",
      "100.00\t\t42.95\t\t387740.63\t\t349806895.83\t\t0.00\n",
      "150.00\t\t64.48\t\t76533.64\t\t21567964.89\t\t0.00\n",
      "Total clique size: 1560000\n",
      "iteration\t\ttime\t\tl1_loss\t\tl2_loss\t\tfeasibility\n",
      "0.00\t\t0.00\t\t140843776.00\t\t10566738717615.38\t\t0.00\n",
      "50.00\t\t17.75\t\t2272926.21\t\t8758707372.71\t\t0.00\n",
      "100.00\t\t36.77\t\t387740.63\t\t349806895.83\t\t0.00\n",
      "150.00\t\t55.99\t\t76533.64\t\t21567964.89\t\t0.00\n",
      "Total clique size: 1560000\n",
      "iteration\t\ttime\t\tl1_loss\t\tl2_loss\t\tfeasibility\n",
      "0.00\t\t0.00\t\t140843776.00\t\t10566738717615.38\t\t0.00\n",
      "50.00\t\t17.69\t\t2272926.21\t\t8758707372.71\t\t0.00\n",
      "100.00\t\t36.30\t\t387740.63\t\t349806895.83\t\t0.00\n",
      "150.00\t\t55.54\t\t76533.64\t\t21567964.89\t\t0.00\n",
      "Total clique size: 1560000\n",
      "iteration\t\ttime\t\tl1_loss\t\tl2_loss\t\tfeasibility\n",
      "0.00\t\t0.00\t\t140843776.00\t\t10566738717615.38\t\t0.00\n",
      "50.00\t\t17.74\t\t2272926.21\t\t8758707372.71\t\t0.00\n",
      "100.00\t\t36.22\t\t387740.63\t\t349806895.83\t\t0.00\n",
      "150.00\t\t55.45\t\t76533.64\t\t21567964.89\t\t0.00\n",
      "Total clique size: 1560000\n",
      "iteration\t\ttime\t\tl1_loss\t\tl2_loss\t\tfeasibility\n",
      "0.00\t\t0.00\t\t140843776.00\t\t10566738717615.38\t\t0.00\n",
      "50.00\t\t17.78\t\t2272926.21\t\t8758707372.71\t\t0.00\n",
      "100.00\t\t36.95\t\t387740.63\t\t349806895.83\t\t0.00\n",
      "150.00\t\t56.23\t\t76533.64\t\t21567964.89\t\t0.00\n"
     ]
    },
    {
     "data": {
      "application/vnd.jupyter.widget-view+json": {
       "model_id": "c58fcdad5b4746c8aee32163d3495b3e",
       "version_major": 2,
       "version_minor": 0
      },
      "text/plain": [
       "  0%|          | 0/10 [00:00<?, ?it/s]"
      ]
     },
     "metadata": {},
     "output_type": "display_data"
    },
    {
     "name": "stdout",
     "output_type": "stream",
     "text": [
      "Total clique size: 1560000\n",
      "iteration\t\ttime\t\tl1_loss\t\tl2_loss\t\tfeasibility\n",
      "0.00\t\t0.00\t\t145111429.23\t\t11353520546153.85\t\t0.00\n",
      "50.00\t\t18.25\t\t1644982.62\t\t5654313420.98\t\t0.00\n",
      "100.00\t\t37.69\t\t206192.58\t\t113616657.07\t\t0.00\n",
      "150.00\t\t56.73\t\t37009.63\t\t5679020.84\t\t0.00\n",
      "Total clique size: 1560000\n",
      "iteration\t\ttime\t\tl1_loss\t\tl2_loss\t\tfeasibility\n",
      "0.00\t\t0.00\t\t145111429.23\t\t11353520546153.85\t\t0.00\n",
      "50.00\t\t17.96\t\t1644982.62\t\t5654313420.98\t\t0.00\n",
      "100.00\t\t36.75\t\t206192.58\t\t113616657.07\t\t0.00\n",
      "150.00\t\t55.81\t\t37009.63\t\t5679020.84\t\t0.00\n",
      "Total clique size: 1560000\n",
      "iteration\t\ttime\t\tl1_loss\t\tl2_loss\t\tfeasibility\n",
      "0.00\t\t0.00\t\t145111429.23\t\t11353520546153.85\t\t0.00\n",
      "50.00\t\t17.92\t\t1644982.62\t\t5654313420.98\t\t0.00\n",
      "100.00\t\t36.43\t\t206192.58\t\t113616657.07\t\t0.00\n",
      "150.00\t\t55.56\t\t37009.63\t\t5679020.84\t\t0.00\n",
      "Total clique size: 1560000\n",
      "iteration\t\ttime\t\tl1_loss\t\tl2_loss\t\tfeasibility\n",
      "0.00\t\t0.00\t\t145111429.23\t\t11353520546153.85\t\t0.00\n",
      "50.00\t\t17.97\t\t1644982.62\t\t5654313420.98\t\t0.00\n",
      "100.00\t\t36.44\t\t206192.58\t\t113616657.07\t\t0.00\n",
      "150.00\t\t55.40\t\t37009.63\t\t5679020.84\t\t0.00\n",
      "Total clique size: 1560000\n",
      "iteration\t\ttime\t\tl1_loss\t\tl2_loss\t\tfeasibility\n",
      "0.00\t\t0.00\t\t145111429.23\t\t11353520546153.85\t\t0.00\n",
      "50.00\t\t18.11\t\t1644982.62\t\t5654313420.98\t\t0.00\n",
      "100.00\t\t36.72\t\t206192.58\t\t113616657.07\t\t0.00\n",
      "150.00\t\t55.86\t\t37009.63\t\t5679020.84\t\t0.00\n",
      "Total clique size: 1560000\n",
      "iteration\t\ttime\t\tl1_loss\t\tl2_loss\t\tfeasibility\n",
      "0.00\t\t0.00\t\t145111429.23\t\t11353520546153.85\t\t0.00\n",
      "50.00\t\t17.83\t\t1644982.62\t\t5654313420.98\t\t0.00\n",
      "100.00\t\t36.40\t\t206192.58\t\t113616657.07\t\t0.00\n",
      "150.00\t\t55.38\t\t37009.63\t\t5679020.84\t\t0.00\n",
      "Total clique size: 1560000\n",
      "iteration\t\ttime\t\tl1_loss\t\tl2_loss\t\tfeasibility\n",
      "0.00\t\t0.00\t\t145111429.23\t\t11353520546153.85\t\t0.00\n",
      "50.00\t\t17.78\t\t1644982.62\t\t5654313420.98\t\t0.00\n",
      "100.00\t\t36.30\t\t206192.58\t\t113616657.07\t\t0.00\n",
      "150.00\t\t54.97\t\t37009.63\t\t5679020.84\t\t0.00\n",
      "Total clique size: 1560000\n",
      "iteration\t\ttime\t\tl1_loss\t\tl2_loss\t\tfeasibility\n",
      "0.00\t\t0.00\t\t145111429.23\t\t11353520546153.85\t\t0.00\n",
      "50.00\t\t17.66\t\t1644982.62\t\t5654313420.98\t\t0.00\n",
      "100.00\t\t36.26\t\t206192.58\t\t113616657.07\t\t0.00\n",
      "150.00\t\t54.94\t\t37009.63\t\t5679020.84\t\t0.00\n",
      "Total clique size: 1560000\n",
      "iteration\t\ttime\t\tl1_loss\t\tl2_loss\t\tfeasibility\n",
      "0.00\t\t0.00\t\t145111429.23\t\t11353520546153.85\t\t0.00\n",
      "50.00\t\t18.41\t\t1644982.62\t\t5654313420.98\t\t0.00\n",
      "100.00\t\t37.11\t\t206192.58\t\t113616657.07\t\t0.00\n",
      "150.00\t\t55.91\t\t37009.63\t\t5679020.84\t\t0.00\n",
      "Total clique size: 1560000\n",
      "iteration\t\ttime\t\tl1_loss\t\tl2_loss\t\tfeasibility\n",
      "0.00\t\t0.00\t\t145111429.23\t\t11353520546153.85\t\t0.00\n",
      "50.00\t\t17.96\t\t1644982.62\t\t5654313420.98\t\t0.00\n",
      "100.00\t\t36.59\t\t206192.58\t\t113616657.07\t\t0.00\n",
      "150.00\t\t55.48\t\t37009.63\t\t5679020.84\t\t0.00\n",
      "\n",
      "\n",
      "====== SynthPop ======\n",
      "[Step 1] Selecting a candidate g...\n"
     ]
    },
    {
     "data": {
      "application/vnd.jupyter.widget-view+json": {
       "model_id": "feba6ec4e0b54777af2c5a15a717e8ba",
       "version_major": 2,
       "version_minor": 0
      },
      "text/plain": [
       "  0%|          | 0/10 [00:00<?, ?it/s]"
      ]
     },
     "metadata": {},
     "output_type": "display_data"
    },
    {
     "name": "stdout",
     "output_type": "stream",
     "text": [
      "train_Marital Status\n",
      "train_Occupation\n",
      "train_Industry\n",
      "train_Region\n",
      "train_Hours worked per week\n",
      "train_Age\n",
      "train_Health\n",
      "generate_Marital Status\n",
      "generate_Occupation\n",
      "generate_Industry\n",
      "generate_Region\n",
      "generate_Hours worked per week\n",
      "generate_Age\n",
      "generate_Health\n",
      "train_Marital Status\n",
      "train_Occupation\n",
      "train_Industry\n",
      "train_Region\n",
      "train_Hours worked per week\n",
      "train_Age\n",
      "train_Health\n",
      "generate_Marital Status\n",
      "generate_Occupation\n",
      "generate_Industry\n",
      "generate_Region\n",
      "generate_Hours worked per week\n",
      "generate_Age\n",
      "generate_Health\n",
      "train_Marital Status\n",
      "train_Occupation\n",
      "train_Industry\n",
      "train_Region\n",
      "train_Hours worked per week\n",
      "train_Age\n",
      "train_Health\n",
      "generate_Marital Status\n",
      "generate_Occupation\n",
      "generate_Industry\n",
      "generate_Region\n",
      "generate_Hours worked per week\n",
      "generate_Age\n",
      "generate_Health\n",
      "train_Marital Status\n",
      "train_Occupation\n",
      "train_Industry\n",
      "train_Region\n",
      "train_Hours worked per week\n",
      "train_Age\n",
      "train_Health\n",
      "generate_Marital Status\n",
      "generate_Occupation\n",
      "generate_Industry\n",
      "generate_Region\n",
      "generate_Hours worked per week\n",
      "generate_Age\n",
      "generate_Health\n",
      "train_Marital Status\n",
      "train_Occupation\n",
      "train_Industry\n",
      "train_Region\n",
      "train_Hours worked per week\n",
      "train_Age\n",
      "train_Health\n",
      "generate_Marital Status\n",
      "generate_Occupation\n",
      "generate_Industry\n",
      "generate_Region\n",
      "generate_Hours worked per week\n",
      "generate_Age\n",
      "generate_Health\n",
      "train_Marital Status\n",
      "train_Occupation\n",
      "train_Industry\n",
      "train_Region\n",
      "train_Hours worked per week\n",
      "train_Age\n",
      "train_Health\n",
      "generate_Marital Status\n",
      "generate_Occupation\n",
      "generate_Industry\n",
      "generate_Region\n",
      "generate_Hours worked per week\n",
      "generate_Age\n",
      "generate_Health\n",
      "train_Marital Status\n",
      "train_Occupation\n",
      "train_Industry\n",
      "train_Region\n",
      "train_Hours worked per week\n",
      "train_Age\n",
      "train_Health\n",
      "generate_Marital Status\n",
      "generate_Occupation\n",
      "generate_Industry\n",
      "generate_Region\n",
      "generate_Hours worked per week\n",
      "generate_Age\n",
      "generate_Health\n",
      "train_Marital Status\n",
      "train_Occupation\n",
      "train_Industry\n",
      "train_Region\n",
      "train_Hours worked per week\n",
      "train_Age\n",
      "train_Health\n",
      "generate_Marital Status\n",
      "generate_Occupation\n",
      "generate_Industry\n",
      "generate_Region\n",
      "generate_Hours worked per week\n",
      "generate_Age\n",
      "generate_Health\n",
      "train_Marital Status\n",
      "train_Occupation\n",
      "train_Industry\n",
      "train_Region\n",
      "train_Hours worked per week\n",
      "train_Age\n",
      "train_Health\n",
      "generate_Marital Status\n",
      "generate_Occupation\n",
      "generate_Industry\n",
      "generate_Region\n",
      "generate_Hours worked per week\n",
      "generate_Age\n",
      "generate_Health\n",
      "train_Marital Status\n",
      "train_Occupation\n",
      "train_Industry\n",
      "train_Region\n",
      "train_Hours worked per week\n",
      "train_Age\n",
      "train_Health\n",
      "generate_Marital Status\n",
      "generate_Occupation\n",
      "generate_Industry\n",
      "generate_Region\n",
      "generate_Hours worked per week\n",
      "generate_Age\n",
      "generate_Health\n",
      "train_Marital Status\n",
      "train_Occupation\n",
      "train_Industry\n",
      "train_Region\n",
      "train_Hours worked per week\n",
      "train_Age\n",
      "train_Health\n",
      "generate_Marital Status\n",
      "generate_Occupation\n",
      "generate_Industry\n",
      "generate_Region\n",
      "generate_Hours worked per week\n",
      "generate_Age\n",
      "generate_Health\n",
      "train_Marital Status\n",
      "train_Occupation\n",
      "train_Industry\n",
      "train_Region\n",
      "train_Hours worked per week\n",
      "train_Age\n",
      "train_Health\n",
      "generate_Marital Status\n",
      "generate_Occupation\n",
      "generate_Industry\n",
      "generate_Region\n",
      "generate_Hours worked per week\n",
      "generate_Age\n",
      "generate_Health\n",
      "train_Marital Status\n",
      "train_Occupation\n",
      "train_Industry\n",
      "train_Region\n",
      "train_Hours worked per week\n",
      "train_Age\n",
      "train_Health\n",
      "generate_Marital Status\n",
      "generate_Occupation\n",
      "generate_Industry\n",
      "generate_Region\n",
      "generate_Hours worked per week\n",
      "generate_Age\n",
      "generate_Health\n",
      "train_Marital Status\n",
      "train_Occupation\n",
      "train_Industry\n",
      "train_Region\n",
      "train_Hours worked per week\n",
      "train_Age\n",
      "train_Health\n",
      "generate_Marital Status\n",
      "generate_Occupation\n",
      "generate_Industry\n",
      "generate_Region\n",
      "generate_Hours worked per week\n",
      "generate_Age\n",
      "generate_Health\n",
      "train_Marital Status\n",
      "train_Occupation\n",
      "train_Industry\n",
      "train_Region\n",
      "train_Hours worked per week\n",
      "train_Age\n",
      "train_Health\n",
      "generate_Marital Status\n",
      "generate_Occupation\n",
      "generate_Industry\n",
      "generate_Region\n",
      "generate_Hours worked per week\n",
      "generate_Age\n",
      "generate_Health\n",
      "train_Marital Status\n",
      "train_Occupation\n",
      "train_Industry\n",
      "train_Region\n",
      "train_Hours worked per week\n",
      "train_Age\n",
      "train_Health\n",
      "generate_Marital Status\n",
      "generate_Occupation\n",
      "generate_Industry\n",
      "generate_Region\n",
      "generate_Hours worked per week\n",
      "generate_Age\n",
      "generate_Health\n",
      "train_Marital Status\n",
      "train_Occupation\n",
      "train_Industry\n",
      "train_Region\n",
      "train_Hours worked per week\n",
      "train_Age\n",
      "train_Health\n",
      "generate_Marital Status\n",
      "generate_Occupation\n",
      "generate_Industry\n",
      "generate_Region\n",
      "generate_Hours worked per week\n",
      "generate_Age\n",
      "generate_Health\n",
      "train_Marital Status\n",
      "train_Occupation\n",
      "train_Industry\n",
      "train_Region\n",
      "train_Hours worked per week\n",
      "train_Age\n",
      "train_Health\n",
      "generate_Marital Status\n",
      "generate_Occupation\n",
      "generate_Industry\n",
      "generate_Region\n",
      "generate_Hours worked per week\n",
      "generate_Age\n",
      "generate_Health\n",
      "train_Marital Status\n",
      "train_Occupation\n",
      "train_Industry\n",
      "train_Region\n",
      "train_Hours worked per week\n",
      "train_Age\n",
      "train_Health\n",
      "generate_Marital Status\n",
      "generate_Occupation\n",
      "generate_Industry\n",
      "generate_Region\n",
      "generate_Hours worked per week\n",
      "generate_Age\n",
      "generate_Health\n",
      "train_Marital Status\n",
      "train_Occupation\n",
      "train_Industry\n",
      "train_Region\n",
      "train_Hours worked per week\n",
      "train_Age\n",
      "train_Health\n",
      "generate_Marital Status\n",
      "generate_Occupation\n",
      "generate_Industry\n",
      "generate_Region\n",
      "generate_Hours worked per week\n",
      "generate_Age\n",
      "generate_Health\n",
      "[Step 2] Auditing g from D^r and D^s...\n"
     ]
    },
    {
     "data": {
      "application/vnd.jupyter.widget-view+json": {
       "model_id": "cd46a6a947894484b0bcf0aaf6864d6a",
       "version_major": 2,
       "version_minor": 0
      },
      "text/plain": [
       "  0%|          | 0/10 [00:00<?, ?it/s]"
      ]
     },
     "metadata": {},
     "output_type": "display_data"
    },
    {
     "name": "stdout",
     "output_type": "stream",
     "text": [
      "train_Marital Status\n",
      "train_Occupation\n",
      "train_Industry\n",
      "train_Region\n",
      "train_Hours worked per week\n",
      "train_Age\n",
      "train_Health\n",
      "generate_Marital Status\n",
      "generate_Occupation\n",
      "generate_Industry\n",
      "generate_Region\n",
      "generate_Hours worked per week\n",
      "generate_Age\n",
      "generate_Health\n",
      "train_Marital Status\n",
      "train_Occupation\n",
      "train_Industry\n",
      "train_Region\n",
      "train_Hours worked per week\n",
      "train_Age\n",
      "train_Health\n",
      "generate_Marital Status\n",
      "generate_Occupation\n",
      "generate_Industry\n",
      "generate_Region\n",
      "generate_Hours worked per week\n",
      "generate_Age\n",
      "generate_Health\n",
      "train_Marital Status\n",
      "train_Occupation\n",
      "train_Industry\n",
      "train_Region\n",
      "train_Hours worked per week\n",
      "train_Age\n",
      "train_Health\n",
      "generate_Marital Status\n",
      "generate_Occupation\n",
      "generate_Industry\n",
      "generate_Region\n",
      "generate_Hours worked per week\n",
      "generate_Age\n",
      "generate_Health\n",
      "train_Marital Status\n",
      "train_Occupation\n",
      "train_Industry\n",
      "train_Region\n",
      "train_Hours worked per week\n",
      "train_Age\n",
      "train_Health\n",
      "generate_Marital Status\n",
      "generate_Occupation\n",
      "generate_Industry\n",
      "generate_Region\n",
      "generate_Hours worked per week\n",
      "generate_Age\n",
      "generate_Health\n",
      "train_Marital Status\n",
      "train_Occupation\n",
      "train_Industry\n",
      "train_Region\n",
      "train_Hours worked per week\n",
      "train_Age\n",
      "train_Health\n",
      "generate_Marital Status\n",
      "generate_Occupation\n",
      "generate_Industry\n",
      "generate_Region\n",
      "generate_Hours worked per week\n",
      "generate_Age\n",
      "generate_Health\n",
      "train_Marital Status\n",
      "train_Occupation\n",
      "train_Industry\n",
      "train_Region\n",
      "train_Hours worked per week\n",
      "train_Age\n",
      "train_Health\n",
      "generate_Marital Status\n",
      "generate_Occupation\n",
      "generate_Industry\n",
      "generate_Region\n",
      "generate_Hours worked per week\n",
      "generate_Age\n",
      "generate_Health\n",
      "train_Marital Status\n",
      "train_Occupation\n",
      "train_Industry\n",
      "train_Region\n",
      "train_Hours worked per week\n",
      "train_Age\n",
      "train_Health\n",
      "generate_Marital Status\n",
      "generate_Occupation\n",
      "generate_Industry\n",
      "generate_Region\n",
      "generate_Hours worked per week\n",
      "generate_Age\n",
      "generate_Health\n",
      "train_Marital Status\n",
      "train_Occupation\n",
      "train_Industry\n",
      "train_Region\n",
      "train_Hours worked per week\n",
      "train_Age\n",
      "train_Health\n",
      "generate_Marital Status\n",
      "generate_Occupation\n",
      "generate_Industry\n",
      "generate_Region\n",
      "generate_Hours worked per week\n",
      "generate_Age\n",
      "generate_Health\n",
      "train_Marital Status\n",
      "train_Occupation\n",
      "train_Industry\n",
      "train_Region\n",
      "train_Hours worked per week\n",
      "train_Age\n",
      "train_Health\n",
      "generate_Marital Status\n",
      "generate_Occupation\n",
      "generate_Industry\n",
      "generate_Region\n",
      "generate_Hours worked per week\n",
      "generate_Age\n",
      "generate_Health\n",
      "train_Marital Status\n",
      "train_Occupation\n",
      "train_Industry\n",
      "train_Region\n",
      "train_Hours worked per week\n",
      "train_Age\n",
      "train_Health\n",
      "generate_Marital Status\n",
      "generate_Occupation\n",
      "generate_Industry\n",
      "generate_Region\n",
      "generate_Hours worked per week\n",
      "generate_Age\n",
      "generate_Health\n"
     ]
    },
    {
     "data": {
      "application/vnd.jupyter.widget-view+json": {
       "model_id": "e7b3341996d5417698408d81e5516276",
       "version_major": 2,
       "version_minor": 0
      },
      "text/plain": [
       "  0%|          | 0/10 [00:00<?, ?it/s]"
      ]
     },
     "metadata": {},
     "output_type": "display_data"
    },
    {
     "name": "stdout",
     "output_type": "stream",
     "text": [
      "train_Marital Status\n",
      "train_Occupation\n",
      "train_Industry\n",
      "train_Region\n",
      "train_Hours worked per week\n",
      "train_Age\n",
      "train_Health\n",
      "generate_Marital Status\n",
      "generate_Occupation\n",
      "generate_Industry\n",
      "generate_Region\n",
      "generate_Hours worked per week\n",
      "generate_Age\n",
      "generate_Health\n",
      "train_Marital Status\n",
      "train_Occupation\n",
      "train_Industry\n",
      "train_Region\n",
      "train_Hours worked per week\n",
      "train_Age\n",
      "train_Health\n",
      "generate_Marital Status\n",
      "generate_Occupation\n",
      "generate_Industry\n",
      "generate_Region\n",
      "generate_Hours worked per week\n",
      "generate_Age\n",
      "generate_Health\n",
      "train_Marital Status\n",
      "train_Occupation\n",
      "train_Industry\n",
      "train_Region\n",
      "train_Hours worked per week\n",
      "train_Age\n",
      "train_Health\n",
      "generate_Marital Status\n",
      "generate_Occupation\n",
      "generate_Industry\n",
      "generate_Region\n",
      "generate_Hours worked per week\n",
      "generate_Age\n",
      "generate_Health\n",
      "train_Marital Status\n",
      "train_Occupation\n",
      "train_Industry\n",
      "train_Region\n",
      "train_Hours worked per week\n",
      "train_Age\n",
      "train_Health\n",
      "generate_Marital Status\n",
      "generate_Occupation\n",
      "generate_Industry\n",
      "generate_Region\n",
      "generate_Hours worked per week\n",
      "generate_Age\n",
      "generate_Health\n",
      "train_Marital Status\n",
      "train_Occupation\n",
      "train_Industry\n",
      "train_Region\n",
      "train_Hours worked per week\n",
      "train_Age\n",
      "train_Health\n",
      "generate_Marital Status\n",
      "generate_Occupation\n",
      "generate_Industry\n",
      "generate_Region\n",
      "generate_Hours worked per week\n",
      "generate_Age\n",
      "generate_Health\n",
      "train_Marital Status\n",
      "train_Occupation\n",
      "train_Industry\n",
      "train_Region\n",
      "train_Hours worked per week\n",
      "train_Age\n",
      "train_Health\n",
      "generate_Marital Status\n",
      "generate_Occupation\n",
      "generate_Industry\n",
      "generate_Region\n",
      "generate_Hours worked per week\n",
      "generate_Age\n",
      "generate_Health\n",
      "train_Marital Status\n",
      "train_Occupation\n",
      "train_Industry\n",
      "train_Region\n",
      "train_Hours worked per week\n",
      "train_Age\n",
      "train_Health\n",
      "generate_Marital Status\n",
      "generate_Occupation\n",
      "generate_Industry\n",
      "generate_Region\n",
      "generate_Hours worked per week\n",
      "generate_Age\n",
      "generate_Health\n",
      "train_Marital Status\n",
      "train_Occupation\n",
      "train_Industry\n",
      "train_Region\n",
      "train_Hours worked per week\n",
      "train_Age\n",
      "train_Health\n",
      "generate_Marital Status\n",
      "generate_Occupation\n",
      "generate_Industry\n",
      "generate_Region\n",
      "generate_Hours worked per week\n",
      "generate_Age\n",
      "generate_Health\n",
      "train_Marital Status\n",
      "train_Occupation\n",
      "train_Industry\n",
      "train_Region\n",
      "train_Hours worked per week\n",
      "train_Age\n",
      "train_Health\n",
      "generate_Marital Status\n",
      "generate_Occupation\n",
      "generate_Industry\n",
      "generate_Region\n",
      "generate_Hours worked per week\n",
      "generate_Age\n",
      "generate_Health\n",
      "train_Marital Status\n",
      "train_Occupation\n",
      "train_Industry\n",
      "train_Region\n",
      "train_Hours worked per week\n",
      "train_Age\n",
      "train_Health\n",
      "generate_Marital Status\n",
      "generate_Occupation\n",
      "generate_Industry\n",
      "generate_Region\n",
      "generate_Hours worked per week\n",
      "generate_Age\n",
      "generate_Health\n",
      "\n",
      "\n"
     ]
    },
    {
     "data": {
      "image/png": "[encoded data removed]",
      "text/plain": [
       "<Figure size 700x700 with 1 Axes>"
      ]
     },
     "metadata": {},
     "output_type": "display_data"
    },
    {
     "data": {
      "image/png": "[encoded data removed]",
      "text/plain": [
       "<Figure size 700x700 with 1 Axes>"
      ]
     },
     "metadata": {},
     "output_type": "display_data"
    },
    {
     "data": {
      "image/png": "[encoded data removed]",
      "text/plain": [
       "<Figure size 700x700 with 1 Axes>"
      ]
     },
     "metadata": {},
     "output_type": "display_data"
    }
   ],
   "source": [
    "for name, cheat_flag, method in methods:\n",
    "    print(f'====== {name} ======')\n",
    "    results.append((audit(method, num_auditing_samples, name), name, cheat_flag))\n",
    "    print('\\n')"
   ]
  },
  {
   "cell_type": "code",
   "execution_count": 15,
   "id": "c2471568",
   "metadata": {},
   "outputs": [],
   "source": [
    "import pickle"
   ]
  },
  {
   "cell_type": "code",
   "execution_count": 58,
   "id": "f5ae20dc",
   "metadata": {},
   "outputs": [],
   "source": [
    "with open('results-auditing-case3.pickle', 'wb') as ff:\n",
    "    pickle.dump(results, ff)"
   ]
  },
  {
   "cell_type": "markdown",
   "id": "c97a2a22",
   "metadata": {},
   "source": [
    "## Results"
   ]
  },
  {
   "cell_type": "code",
   "execution_count": 16,
   "id": "f312156f",
   "metadata": {},
   "outputs": [],
   "source": [
    "with open('results-auditing-case3.pickle', 'rb') as ff:\n",
    "    results = pickle.load(ff)"
   ]
  },
  {
   "cell_type": "markdown",
   "id": "94492083",
   "metadata": {},
   "source": [
    "### Figure for the differences"
   ]
  },
  {
   "cell_type": "code",
   "execution_count": 17,
   "id": "0ea7ac73",
   "metadata": {},
   "outputs": [],
   "source": [
    "renaming = {\n",
    "    \"IPF-Honest\": \"IPF (Honest)\",\n",
    "    \"IPF-Cheat\": \"IPF (Dishonest)\",\n",
    "    \"MST-Honest\": \"MST (Honest)\",\n",
    "    \"MST-Cheat\": \"MST (Dishonest)\",\n",
    "    \"SynthPop\": \"SynthPop\"\n",
    "}"
   ]
  },
  {
   "cell_type": "code",
   "execution_count": 18,
   "id": "87cc44da",
   "metadata": {
    "scrolled": true
   },
   "outputs": [
    {
     "data": {
      "image/png": "[encoded data removed]",
      "text/plain": [
       "<Figure size 1296x288 with 5 Axes>"
      ]
     },
     "metadata": {
      "needs_background": "light"
     },
     "output_type": "display_data"
    }
   ],
   "source": [
    "plt.figure(figsize=(18, 4))\n",
    "\n",
    "i = 1\n",
    "for r, name, cheat_flag in results:\n",
    "    plt.subplot(1, len(results), i)\n",
    "    auditing_plot(r[1], 'r' if cheat_flag else 'g', name)\n",
    "    plt.xlabel(\"Value of $g(D^{(r)})$ for fixed $\\\\phi(D^{(r)})$\", fontsize=15)\n",
    "    if i==1:\n",
    "        plt.ylabel(\"Value of $g(D^{(s)})$ generated from $D^{(r)}$\", fontsize=12)\n",
    "    plt.title(renaming[name], fontsize=20)\n",
    "    i += 1\n",
    "\n",
    "plt.tight_layout()\n",
    "plt.savefig(\"auditing_usecase3.pdf\");"
   ]
  },
  {
   "cell_type": "code",
   "execution_count": 19,
   "id": "a09a56b7",
   "metadata": {},
   "outputs": [
    {
     "data": {
      "image/png": "[encoded data removed]",
      "text/plain": [
       "<Figure size 1296x288 with 5 Axes>"
      ]
     },
     "metadata": {
      "needs_background": "light"
     },
     "output_type": "display_data"
    }
   ],
   "source": [
    "def better_plot(results, color, label):\n",
    "    x = []\n",
    "    y = []\n",
    "    df_r = pd.DataFrame(results, columns=('real', 'synth'))\n",
    "    for real, subdf in df_r.groupby('real'):\n",
    "        x.append(real)\n",
    "        y.append(subdf.synth.values)\n",
    "#     plt.boxplot(y, labels=[f\"{i:.2f}\" for i in x])\n",
    "    plt.boxplot(y, labels=[\"$D^-$\", \"$D^+$\"])\n",
    "\n",
    "plt.figure(figsize=(18, 4))\n",
    "\n",
    "i = 1\n",
    "for r, name, cheat_flag in results:\n",
    "    plt.subplot(1, len(results), i)\n",
    "    better_plot(r[1], 'r' if cheat_flag else 'g', name)\n",
    "#     plt.xlabel(\"Value of $g(D^{(r)})$ for fixed $\\\\phi(D^{(r)})$\", fontsize=15)\n",
    "    if i==1:\n",
    "        plt.ylabel(\"Value of $g(D^{(s)})$ generated from $D^{(r)}$\", fontsize=12)\n",
    "    plt.title(renaming[name], fontsize=20)\n",
    "    i += 1\n",
    "\n",
    "plt.tight_layout()\n",
    "plt.savefig(\"auditing_usecase3.pdf\");"
   ]
  },
  {
   "cell_type": "markdown",
   "id": "44285fa4",
   "metadata": {},
   "source": [
    "### Statistical test"
   ]
  },
  {
   "cell_type": "code",
   "execution_count": 20,
   "id": "2a4fe3ed",
   "metadata": {},
   "outputs": [],
   "source": [
    "from scipy.stats import ttest_ind"
   ]
  },
  {
   "cell_type": "code",
   "execution_count": 21,
   "id": "801ef6b7",
   "metadata": {},
   "outputs": [
    {
     "name": "stdout",
     "output_type": "stream",
     "text": [
      "IPF-Honest -- [False] \t 0.669761987212983\n",
      "IPF-Cheat -- [True] \t 5.719051810537643e-35\n",
      "MST-Honest -- [False] \t 0.47271989729217845\n",
      "MST-Cheat -- [True] \t 2.2736490693781117e-33\n",
      "SynthPop -- [True] \t 3.692639769296051e-34\n"
     ]
    }
   ],
   "source": [
    "for r, name, cheat_flag in results:\n",
    "    x = [x[1] for x in r[1]]\n",
    "    t_test_result = ttest_ind(x[:num_auditing_samples], x[num_auditing_samples:])\n",
    "    print(f\"{name} -- [{cheat_flag}]\", '\\t', t_test_result.pvalue)"
   ]
  }
 ],
 "metadata": {
  "kernelspec": {
   "display_name": "Python 3 (ipykernel)",
   "language": "python",
   "name": "python3"
  },
  "language_info": {
   "codemirror_mode": {
    "name": "ipython",
    "version": 3
   },
   "file_extension": ".py",
   "mimetype": "text/x-python",
   "name": "python",
   "nbconvert_exporter": "python",
   "pygments_lexer": "ipython3",
   "version": "3.8.12"
  }
 },
 "nbformat": 4,
 "nbformat_minor": 5
}
