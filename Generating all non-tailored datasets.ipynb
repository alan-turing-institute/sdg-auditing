{
 "cells": [
  {
   "cell_type": "markdown",
   "id": "f285099e",
   "metadata": {},
   "source": [
    "In this notebook, we generate all synthetic dataset that are _not_ tailored to a specific task. This notebook includes code to generate the datasets with the right parameters (including seeds) and save the results."
   ]
  },
  {
   "cell_type": "code",
   "execution_count": 1,
   "id": "9c9e2e63",
   "metadata": {},
   "outputs": [],
   "source": [
    "import json\n",
    "import numpy as np\n",
    "import os\n",
    "import pandas as pd\n",
    "import tqdm\n",
    "import tqdm.notebook"
   ]
  },
  {
   "cell_type": "code",
   "execution_count": 2,
   "id": "51dbb5c4",
   "metadata": {},
   "outputs": [],
   "source": [
    "# Loads of warnings coming from the sub-methods, which we don't care about.\n",
    "import warnings\n",
    "warnings.filterwarnings(\"ignore\")"
   ]
  },
  {
   "cell_type": "code",
   "execution_count": 3,
   "id": "24d1654f",
   "metadata": {
    "scrolled": true
   },
   "outputs": [
    {
     "name": "stderr",
     "output_type": "stream",
     "text": [
      "2022-11-03 13:40:33.700641: I tensorflow/core/platform/cpu_feature_guard.cc:193] This TensorFlow binary is optimized with oneAPI Deep Neural Network Library (oneDNN) to use the following CPU instructions in performance-critical operations:  AVX2 FMA\n",
      "To enable them in other operations, rebuild TensorFlow with the appropriate compiler flags.\n"
     ]
    },
    {
     "name": "stdout",
     "output_type": "stream",
     "text": [
      "WARNING:tensorflow:From /usr/local/anaconda3/envs/py310/lib/python3.10/site-packages/tensorflow/python/compat/v2_compat.py:107: disable_resource_variables (from tensorflow.python.ops.variable_scope) is deprecated and will be removed in a future version.\n",
      "Instructions for updating:\n",
      "non-resource variables are not supported in the long term\n"
     ]
    }
   ],
   "source": [
    "from reprosyn.methods import IPF, MST, CTGAN, PATEGAN, PRIVBAYES, DS_PRIVBAYES, SYNTHPOP"
   ]
  },
  {
   "cell_type": "code",
   "execution_count": 4,
   "id": "1400f9cb",
   "metadata": {},
   "outputs": [],
   "source": [
    "from utils import load_data, metadata, run_generator, target_folder"
   ]
  },
  {
   "cell_type": "markdown",
   "id": "b90c3523",
   "metadata": {},
   "source": [
    "#### Parameters"
   ]
  },
  {
   "cell_type": "code",
   "execution_count": 5,
   "id": "fbb35194",
   "metadata": {},
   "outputs": [],
   "source": [
    "master_seed = 42387342"
   ]
  },
  {
   "cell_type": "code",
   "execution_count": 6,
   "id": "280022cc",
   "metadata": {},
   "outputs": [],
   "source": [
    "num_runs = 5"
   ]
  },
  {
   "cell_type": "markdown",
   "id": "4a0ad577",
   "metadata": {},
   "source": [
    "#### Data\n",
    "\n",
    "Generate synthetic datasets from the \"training\" part of the data."
   ]
  },
  {
   "cell_type": "code",
   "execution_count": 7,
   "id": "f9ab9429",
   "metadata": {},
   "outputs": [],
   "source": [
    "df = load_data(train=True, test=False)"
   ]
  },
  {
   "cell_type": "markdown",
   "id": "fe09fdbc",
   "metadata": {},
   "source": [
    "We want to generate datasets with the same size as the *full* data."
   ]
  },
  {
   "cell_type": "code",
   "execution_count": 8,
   "id": "0b823f91",
   "metadata": {},
   "outputs": [],
   "source": [
    "output_size = len(load_data(train=True, test=True))"
   ]
  },
  {
   "cell_type": "code",
   "execution_count": 9,
   "id": "2d92c6b6",
   "metadata": {},
   "outputs": [],
   "source": [
    "# TODO, maybe: restrict columns?"
   ]
  },
  {
   "cell_type": "markdown",
   "id": "f7e3cf05",
   "metadata": {},
   "source": [
    "#### Methods"
   ]
  },
  {
   "cell_type": "code",
   "execution_count": 10,
   "id": "a8c47def",
   "metadata": {},
   "outputs": [],
   "source": [
    "methods = [\n",
    "#     (\"MST_eps1\", MST, {\"epsilon\": 1}),\n",
    "    (\"MST_eps1000\", MST, {\"epsilon\": 1000}),\n",
    "    (\"CTGAN_10epochs\", CTGAN, {\"epochs\": 10}),\n",
    "#     (\"PATEGAN_eps1\", PATEGAN, {\"epsilon\": 1}),\n",
    "    (\"PATEGAN_eps1000\", PATEGAN, {\"epsilon\": 1000}),\n",
    "#     (\"PrivBayes_eps1\", DS_PRIVBAYES, {\"epsilon\": 1}),\n",
    "    (\"PrivBayes_eps1000\", DS_PRIVBAYES, {\"epsilon\": 1000}),\n",
    "    (\"SYNTHPOP\", SYNTHPOP, {}),\n",
    "]"
   ]
  },
  {
   "cell_type": "markdown",
   "id": "a379fe2c",
   "metadata": {},
   "source": [
    "#### Configuration"
   ]
  },
  {
   "cell_type": "code",
   "execution_count": 11,
   "id": "f68eba27",
   "metadata": {},
   "outputs": [],
   "source": [
    "np.random.seed(master_seed)\n",
    "seeds = np.random.randint(np.iinfo(np.int16).max, size=num_runs)"
   ]
  },
  {
   "cell_type": "markdown",
   "id": "00cc32d7",
   "metadata": {},
   "source": [
    "#### Runs"
   ]
  },
  {
   "cell_type": "code",
   "execution_count": 12,
   "id": "198058e4",
   "metadata": {
    "scrolled": false
   },
   "outputs": [
    {
     "name": "stdout",
     "output_type": "stream",
     "text": [
      "========== MST_eps1000 ==========\n"
     ]
    },
    {
     "data": {
      "application/vnd.jupyter.widget-view+json": {
       "model_id": "bce63d6c8bcc46c688b1b635c205dff8",
       "version_major": 2,
       "version_minor": 0
      },
      "text/plain": [
       "  0%|          | 0/5 [00:00<?, ?it/s]"
      ]
     },
     "metadata": {},
     "output_type": "display_data"
    },
    {
     "name": "stdout",
     "output_type": "stream",
     "text": [
      "\n",
      "========== CTGAN_10epochs ==========\n"
     ]
    },
    {
     "data": {
      "application/vnd.jupyter.widget-view+json": {
       "model_id": "db8fff8ba14042388a548ea171faf587",
       "version_major": 2,
       "version_minor": 0
      },
      "text/plain": [
       "  0%|          | 0/5 [00:00<?, ?it/s]"
      ]
     },
     "metadata": {},
     "output_type": "display_data"
    },
    {
     "name": "stdout",
     "output_type": "stream",
     "text": [
      "\n",
      "========== PATEGAN_eps1000 ==========\n"
     ]
    },
    {
     "data": {
      "application/vnd.jupyter.widget-view+json": {
       "model_id": "fe1e5fc334a94515a26e811e02a16f7d",
       "version_major": 2,
       "version_minor": 0
      },
      "text/plain": [
       "  0%|          | 0/5 [00:00<?, ?it/s]"
      ]
     },
     "metadata": {},
     "output_type": "display_data"
    },
    {
     "name": "stderr",
     "output_type": "stream",
     "text": [
      "2022-11-03 14:35:03.037279: I tensorflow/core/platform/cpu_feature_guard.cc:193] This TensorFlow binary is optimized with oneAPI Deep Neural Network Library (oneDNN) to use the following CPU instructions in performance-critical operations:  AVX2 FMA\n",
      "To enable them in other operations, rebuild TensorFlow with the appropriate compiler flags.\n",
      "2022-11-03 14:35:06.717084: I tensorflow/compiler/mlir/mlir_graph_optimization_pass.cc:354] MLIR V1 optimization pass is not enabled\n"
     ]
    },
    {
     "name": "stdout",
     "output_type": "stream",
     "text": [
      "\n",
      "========== PrivBayes_eps1000 ==========\n"
     ]
    },
    {
     "data": {
      "application/vnd.jupyter.widget-view+json": {
       "model_id": "87a51662f32d4a9a95559fd71e0ac1a2",
       "version_major": 2,
       "version_minor": 0
      },
      "text/plain": [
       "  0%|          | 0/5 [00:00<?, ?it/s]"
      ]
     },
     "metadata": {},
     "output_type": "display_data"
    },
    {
     "name": "stdout",
     "output_type": "stream",
     "text": [
      "\n",
      "========== SYNTHPOP ==========\n"
     ]
    },
    {
     "data": {
      "application/vnd.jupyter.widget-view+json": {
       "model_id": "9b2e5ff8789a4ebd97b5eff9ff1f8715",
       "version_major": 2,
       "version_minor": 0
      },
      "text/plain": [
       "  0%|          | 0/5 [00:00<?, ?it/s]"
      ]
     },
     "metadata": {},
     "output_type": "display_data"
    },
    {
     "name": "stdout",
     "output_type": "stream",
     "text": [
      "train_Region\n",
      "train_Residence Type\n",
      "train_Family Composition\n",
      "train_Population Base\n",
      "train_Sex\n",
      "train_Age\n",
      "train_Marital Status\n",
      "train_Student\n",
      "train_Country of Birth\n",
      "train_Health\n",
      "train_Ethnic Group\n",
      "train_Religion\n",
      "train_Economic Activity\n",
      "train_Occupation\n",
      "train_Industry\n",
      "train_Hours worked per week\n",
      "train_Approximated Social Grade\n",
      "generate_Region\n",
      "generate_Residence Type\n",
      "generate_Family Composition\n",
      "generate_Population Base\n",
      "generate_Sex\n",
      "generate_Age\n",
      "generate_Marital Status\n",
      "generate_Student\n",
      "generate_Country of Birth\n",
      "generate_Health\n",
      "generate_Ethnic Group\n",
      "generate_Religion\n",
      "generate_Economic Activity\n",
      "generate_Occupation\n",
      "generate_Industry\n",
      "generate_Hours worked per week\n",
      "generate_Approximated Social Grade\n",
      "train_Region\n",
      "train_Residence Type\n",
      "train_Family Composition\n",
      "train_Population Base\n",
      "train_Sex\n",
      "train_Age\n",
      "train_Marital Status\n",
      "train_Student\n",
      "train_Country of Birth\n",
      "train_Health\n",
      "train_Ethnic Group\n",
      "train_Religion\n",
      "train_Economic Activity\n",
      "train_Occupation\n",
      "train_Industry\n",
      "train_Hours worked per week\n",
      "train_Approximated Social Grade\n",
      "generate_Region\n",
      "generate_Residence Type\n",
      "generate_Family Composition\n",
      "generate_Population Base\n",
      "generate_Sex\n",
      "generate_Age\n",
      "generate_Marital Status\n",
      "generate_Student\n",
      "generate_Country of Birth\n",
      "generate_Health\n",
      "generate_Ethnic Group\n",
      "generate_Religion\n",
      "generate_Economic Activity\n",
      "generate_Occupation\n",
      "generate_Industry\n",
      "generate_Hours worked per week\n",
      "generate_Approximated Social Grade\n",
      "\n"
     ]
    }
   ],
   "source": [
    "for method_name, generator, kwargs in methods:\n",
    "    print('='*10, method_name, '='*10)\n",
    "    target_folder_method = f\"{target_folder}/{method_name}\"\n",
    "    if not os.path.exists(target_folder_method):\n",
    "        os.mkdir(target_folder_method)\n",
    "    for seed in tqdm.notebook.tqdm(seeds):\n",
    "        run_generator(df, method_name, seed, generator, output_size, kwargs)\n",
    "    print()"
   ]
  }
 ],
 "metadata": {
  "kernelspec": {
   "display_name": "Python 3 (ipykernel)",
   "language": "python",
   "name": "python3"
  },
  "language_info": {
   "codemirror_mode": {
    "name": "ipython",
    "version": 3
   },
   "file_extension": ".py",
   "mimetype": "text/x-python",
   "name": "python",
   "nbconvert_exporter": "python",
   "pygments_lexer": "ipython3",
   "version": "3.10.6"
  }
 },
 "nbformat": 4,
 "nbformat_minor": 5
}
