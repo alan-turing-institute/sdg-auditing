{
 "cells": [
  {
   "cell_type": "markdown",
   "id": "3e792f55",
   "metadata": {},
   "source": [
    "## Use Case 1\n",
    "\n",
    "Teaching recommendation: Economic activity (restricted to economically active only) aggregated by occupation and gender. Three way table taken from the teaching advice pages 11 \\& 12.\n",
    "\n",
    "Use case would be: restrict to records with `Economic Activity` in {Economically active: Employee (1) / Economically active: Self-employed (2)}, compute the gender gap across `Occupation`.\n",
    "\n",
    "(This notebook uses the same structure as the other use case notebooks)."
   ]
  },
  {
   "cell_type": "code",
   "execution_count": 1,
   "id": "572ebf76",
   "metadata": {},
   "outputs": [],
   "source": [
    "import itertools\n",
    "import json\n",
    "import numpy as np\n",
    "import os\n",
    "import pandas as pd\n",
    "import pickle\n",
    "import tqdm\n",
    "import tqdm.notebook"
   ]
  },
  {
   "cell_type": "code",
   "execution_count": 2,
   "id": "b21065aa",
   "metadata": {},
   "outputs": [],
   "source": [
    "# Loads of warnings coming from the sub-methods, which we don't care about.\n",
    "import warnings\n",
    "warnings.filterwarnings(\"ignore\")"
   ]
  },
  {
   "cell_type": "code",
   "execution_count": 3,
   "id": "4645eab9",
   "metadata": {},
   "outputs": [
    {
     "name": "stderr",
     "output_type": "stream",
     "text": [
      "2022-11-03 16:16:29.234159: I tensorflow/core/platform/cpu_feature_guard.cc:193] This TensorFlow binary is optimized with oneAPI Deep Neural Network Library (oneDNN) to use the following CPU instructions in performance-critical operations:  AVX2 FMA\n",
      "To enable them in other operations, rebuild TensorFlow with the appropriate compiler flags.\n"
     ]
    },
    {
     "name": "stdout",
     "output_type": "stream",
     "text": [
      "WARNING:tensorflow:From /usr/local/anaconda3/envs/py310/lib/python3.10/site-packages/tensorflow/python/compat/v2_compat.py:107: disable_resource_variables (from tensorflow.python.ops.variable_scope) is deprecated and will be removed in a future version.\n",
      "Instructions for updating:\n",
      "non-resource variables are not supported in the long term\n"
     ]
    }
   ],
   "source": [
    "from utils import load_data, load_synthetic_datasets, metadata, custom_ipf, custom_mst"
   ]
  },
  {
   "cell_type": "code",
   "execution_count": 4,
   "id": "3bff082a",
   "metadata": {},
   "outputs": [],
   "source": [
    "from sklearn.linear_model import LogisticRegression\n",
    "from sklearn.compose import ColumnTransformer\n",
    "from sklearn.inspection import permutation_importance\n",
    "from sklearn.model_selection import train_test_split\n",
    "from sklearn.metrics import classification_report, accuracy_score\n",
    "from sklearn.pipeline import Pipeline\n",
    "from sklearn.preprocessing import OneHotEncoder, StandardScaler"
   ]
  },
  {
   "cell_type": "markdown",
   "id": "fc91b29f",
   "metadata": {},
   "source": [
    "Load the data."
   ]
  },
  {
   "cell_type": "code",
   "execution_count": 5,
   "id": "6f14a65b",
   "metadata": {},
   "outputs": [],
   "source": [
    "teaching_file = load_data(train=True, test=True)"
   ]
  },
  {
   "cell_type": "code",
   "execution_count": 6,
   "id": "9cc7c8ae",
   "metadata": {},
   "outputs": [],
   "source": [
    "output_size = len(teaching_file)"
   ]
  },
  {
   "cell_type": "markdown",
   "id": "b434906f",
   "metadata": {},
   "source": [
    "### Use case "
   ]
  },
  {
   "cell_type": "markdown",
   "id": "aa3eab25",
   "metadata": {},
   "source": [
    "What columns are used in the task? What marginals should be preserved for this task?"
   ]
  },
  {
   "cell_type": "code",
   "execution_count": 7,
   "id": "3e3c0320",
   "metadata": {},
   "outputs": [],
   "source": [
    "columns = [\"Economic Activity\", \"Occupation\", \"Sex\"]"
   ]
  },
  {
   "cell_type": "code",
   "execution_count": 8,
   "id": "61498804",
   "metadata": {},
   "outputs": [],
   "source": [
    "metamap = {m[\"name\"]: m for m in metadata}"
   ]
  },
  {
   "cell_type": "code",
   "execution_count": 9,
   "id": "4055751e",
   "metadata": {},
   "outputs": [],
   "source": [
    "list_values = [metamap[c][\"representation\"] for c in columns]"
   ]
  },
  {
   "cell_type": "code",
   "execution_count": 10,
   "id": "97707922",
   "metadata": {},
   "outputs": [],
   "source": [
    "num_cat = [len(c) for c in list_values]"
   ]
  },
  {
   "cell_type": "markdown",
   "id": "27c8ea38",
   "metadata": {},
   "source": [
    "We use 3-way marginals for the demographics, and 2-ways with the target."
   ]
  },
  {
   "cell_type": "code",
   "execution_count": 11,
   "id": "81da086a",
   "metadata": {},
   "outputs": [],
   "source": [
    "acceptable_marginals = [(0, 1), (0, 2), (1, 2)]"
   ]
  },
  {
   "cell_type": "markdown",
   "id": "acdcee74",
   "metadata": {},
   "source": [
    "Define the task of interest (analysis on data)."
   ]
  },
  {
   "cell_type": "code",
   "execution_count": 12,
   "id": "c136d0e0",
   "metadata": {},
   "outputs": [],
   "source": [
    "def task(dataset):\n",
    "    # Extract metadata for the columns.\n",
    "    \n",
    "    # Task 1: compute the three-way marginal.\n",
    "    dataset = dataset.astype(str)\n",
    "    marginal = np.zeros(num_cat)\n",
    "    for ix, x in enumerate(list_values[0]):\n",
    "        for iy, y in enumerate(list_values[1]):\n",
    "            for iz, z in enumerate(list_values[2]):\n",
    "                marginal[ix,iy,iz] = np.mean(\n",
    "                    (dataset[columns[0]] == x) & (dataset[columns[1]] == y) & (dataset[columns[2]] == z)\n",
    "                )\n",
    "    \n",
    "    # Task 2: compute the gender gap for each occupation.\n",
    "    # Restrict to economically active people.\n",
    "    df = dataset[(dataset[columns[0]] == '1') | (dataset[columns[0]] == '2')]\n",
    "    # For each occupation, compute the gender gap.\n",
    "    gender_gap = []\n",
    "    for occupation in list_values[1]:\n",
    "        df_occ = df[df.Occupation == occupation]\n",
    "        if len(df_occ) == 0:\n",
    "            gender_gap.append(0)\n",
    "            continue\n",
    "        prop_m = np.mean(df_occ.Sex == '1')\n",
    "        prop_f = np.mean(df_occ.Sex == '2')\n",
    "        gender_gap.append(prop_m - prop_f)\n",
    "    \n",
    "    # Return the model + the y_pred/y_true to evaluate.\n",
    "    return marginal, np.array(gender_gap)"
   ]
  },
  {
   "cell_type": "markdown",
   "id": "eefd1bc5",
   "metadata": {},
   "source": [
    "Define how to measure the success of this analysis (how close it is)."
   ]
  },
  {
   "cell_type": "code",
   "execution_count": 13,
   "id": "d71cd54b",
   "metadata": {},
   "outputs": [],
   "source": [
    "def distance_marginals(m1, m2):\n",
    "    return np.sqrt(((m1.flatten()-m2.flatten())**2).mean())"
   ]
  },
  {
   "cell_type": "code",
   "execution_count": 14,
   "id": "47749bd8",
   "metadata": {},
   "outputs": [],
   "source": [
    "def distance_bb(bb1, bb2):\n",
    "    return np.sqrt(((bb1-bb2)**2).mean())"
   ]
  },
  {
   "cell_type": "code",
   "execution_count": 27,
   "id": "235e2857",
   "metadata": {},
   "outputs": [],
   "source": [
    "def utility(task_output_synth, task_output_real):\n",
    "    # Parse the output of each task.\n",
    "    marginal_s, gg_s = task_output_synth\n",
    "    marginal_r, gg_r = task_output_real\n",
    "    # Measure the distance between answers.\n",
    "    avg_error_marginal = distance_marginals(marginal_s, marginal_r)\n",
    "    avg_error_bb = distance_bb(gg_s, gg_r)\n",
    "    return avg_error_marginal, avg_error_bb"
   ]
  },
  {
   "cell_type": "markdown",
   "id": "f45d434d",
   "metadata": {},
   "source": [
    "### Generating tailored datasets"
   ]
  },
  {
   "cell_type": "code",
   "execution_count": 16,
   "id": "f08a14ab",
   "metadata": {},
   "outputs": [],
   "source": [
    "master_seed = 42387342"
   ]
  },
  {
   "cell_type": "code",
   "execution_count": 17,
   "id": "88c54423",
   "metadata": {},
   "outputs": [],
   "source": [
    "num_runs = 5"
   ]
  },
  {
   "cell_type": "code",
   "execution_count": 18,
   "id": "37bf62e8",
   "metadata": {},
   "outputs": [],
   "source": [
    "np.random.seed(master_seed)\n",
    "seeds = np.random.randint(np.iinfo(np.int16).max, size=num_runs)"
   ]
  },
  {
   "cell_type": "markdown",
   "id": "c060acf6",
   "metadata": {},
   "source": [
    "IPF"
   ]
  },
  {
   "cell_type": "code",
   "execution_count": 19,
   "id": "0fe1e22a",
   "metadata": {},
   "outputs": [],
   "source": [
    "for seed in seeds:\n",
    "    custom_ipf(teaching_file, columns, \"use_case_1_ipf\", seed, acceptable_marginals, output_size)"
   ]
  },
  {
   "cell_type": "markdown",
   "id": "0109b17f",
   "metadata": {},
   "source": [
    "MST"
   ]
  },
  {
   "cell_type": "code",
   "execution_count": 20,
   "id": "2bdf7a73",
   "metadata": {},
   "outputs": [],
   "source": [
    "for seed in seeds:\n",
    "    custom_mst(teaching_file, columns, \"use_case_1_mst\", seed, acceptable_marginals, output_size)"
   ]
  },
  {
   "cell_type": "markdown",
   "id": "92b576fb",
   "metadata": {},
   "source": [
    "### Loading synthetic datasets"
   ]
  },
  {
   "cell_type": "markdown",
   "id": "6647bf73",
   "metadata": {},
   "source": [
    "Load generated datasets that are agnostic to the task, as well as the datasets from the previous step."
   ]
  },
  {
   "cell_type": "code",
   "execution_count": 21,
   "id": "2a5195cd",
   "metadata": {},
   "outputs": [],
   "source": [
    "methods = [\n",
    "    \"use_case_1_ipf\",\n",
    "    \"use_case_1_mst\",\n",
    "    \"MST_eps1000\",\n",
    "    \"CTGAN_10epochs\",\n",
    "    \"PATEGAN_eps1000\",\n",
    "    \"PrivBayes_eps1000\",\n",
    "    \"SYNTHPOP\"\n",
    "]"
   ]
  },
  {
   "cell_type": "markdown",
   "id": "fec673c9",
   "metadata": {},
   "source": [
    "### Summarising the results"
   ]
  },
  {
   "cell_type": "code",
   "execution_count": 22,
   "id": "097e0ac9",
   "metadata": {},
   "outputs": [],
   "source": [
    "synthetic_datasets = load_synthetic_datasets(methods)"
   ]
  },
  {
   "cell_type": "markdown",
   "id": "58bf7cc5",
   "metadata": {},
   "source": [
    "Save these task results to disk to remove the need for repeated expensive computations."
   ]
  },
  {
   "cell_type": "code",
   "execution_count": 23,
   "id": "23f68062",
   "metadata": {},
   "outputs": [],
   "source": [
    "try:\n",
    "    with open(\"use_case_1.pickle\", \"rb\") as ff:\n",
    "        task_real_data, results = pickle.load(ff)\n",
    "except Exception as err:\n",
    "    task_real_data = task(teaching_file)\n",
    "    results = {}"
   ]
  },
  {
   "cell_type": "markdown",
   "id": "97cc3d48",
   "metadata": {},
   "source": [
    "The following is re-entrant: pre-existing results will not be recomputed."
   ]
  },
  {
   "cell_type": "code",
   "execution_count": 24,
   "id": "8c87d4c5",
   "metadata": {},
   "outputs": [
    {
     "data": {
      "application/vnd.jupyter.widget-view+json": {
       "model_id": "26d9f3640a1a418592ff6cb3bfb33c1b",
       "version_major": 2,
       "version_minor": 0
      },
      "text/plain": [
       "  0%|          | 0/7 [00:00<?, ?it/s]"
      ]
     },
     "metadata": {},
     "output_type": "display_data"
    },
    {
     "name": "stdout",
     "output_type": "stream",
     "text": [
      "use_case_1_ipf\n",
      "use_case_1_mst\n",
      "MST_eps1000\n",
      "CTGAN_10epochs\n",
      "PATEGAN_eps1000\n",
      "PrivBayes_eps1000\n",
      "SYNTHPOP\n"
     ]
    }
   ],
   "source": [
    "for method in tqdm.notebook.tqdm(methods):\n",
    "    # Prevent re-computation of the task.\n",
    "    if method in results and len(results[method]) == len(synthetic_datasets[method]):\n",
    "        continue\n",
    "    print(method)\n",
    "    results[method] = L = []\n",
    "    for ds in synthetic_datasets[method]:\n",
    "        L.append(task(ds))"
   ]
  },
  {
   "cell_type": "markdown",
   "id": "2f5972b9",
   "metadata": {},
   "source": [
    "Conversely, load these results! You may start here when running the module."
   ]
  },
  {
   "cell_type": "code",
   "execution_count": 25,
   "id": "83d206d2",
   "metadata": {},
   "outputs": [],
   "source": [
    "with open(\"use_case_1.pickle\", \"wb\") as ff:\n",
    "    pickle.dump((task_real_data, results), ff)"
   ]
  },
  {
   "cell_type": "markdown",
   "id": "65b8d967",
   "metadata": {},
   "source": [
    "Print the accuracy of models."
   ]
  },
  {
   "cell_type": "code",
   "execution_count": 33,
   "id": "3a31a12c",
   "metadata": {},
   "outputs": [
    {
     "name": "stdout",
     "output_type": "stream",
     "text": [
      "=== use_case_1_ipf ===\n",
      "\tError on marginals:  5.39e-04\n",
      "\tError on gender gap: 4.77e-02\n",
      "\n",
      "=== use_case_1_mst ===\n",
      "\tError on marginals:  5.35e-04\n",
      "\tError on gender gap: 4.94e-02\n",
      "\n",
      "=== MST_eps1000 ===\n",
      "\tError on marginals:  1.04e-03\n",
      "\tError on gender gap: 8.68e-02\n",
      "\n",
      "=== CTGAN_10epochs ===\n",
      "\tError on marginals:  3.62e-03\n",
      "\tError on gender gap: 1.70e-01\n",
      "\n",
      "=== PATEGAN_eps1000 ===\n",
      "\tError on marginals:  1.29e-02\n",
      "\tError on gender gap: 5.70e-01\n",
      "\n",
      "=== PrivBayes_eps1000 ===\n",
      "\tError on marginals:  8.97e-03\n",
      "\tError on gender gap: 2.84e-01\n",
      "\n",
      "=== SYNTHPOP ===\n",
      "\tError on marginals:  9.60e-05\n",
      "\tError on gender gap: 4.61e-03\n",
      "\n"
     ]
    }
   ],
   "source": [
    "for method in methods:\n",
    "    print('===', method, '===')\n",
    "    err_marg = 0\n",
    "    err_gg = 0\n",
    "    for task_result in results[method]:\n",
    "        em, eg = utility(task_result, task_real_data)\n",
    "        err_marg += em\n",
    "        err_gg += eg\n",
    "    err_marg /= len(results[method])\n",
    "    err_gg /= len(results[method])\n",
    "    print('\\tError on marginals: ', '%.2e'% err_marg)\n",
    "    print('\\tError on gender gap:', '%.2e'% err_gg)\n",
    "    print()"
   ]
  }
 ],
 "metadata": {
  "kernelspec": {
   "display_name": "Python 3 (ipykernel)",
   "language": "python",
   "name": "python3"
  },
  "language_info": {
   "codemirror_mode": {
    "name": "ipython",
    "version": 3
   },
   "file_extension": ".py",
   "mimetype": "text/x-python",
   "name": "python",
   "nbconvert_exporter": "python",
   "pygments_lexer": "ipython3",
   "version": "3.10.6"
  }
 },
 "nbformat": 4,
 "nbformat_minor": 5
}
