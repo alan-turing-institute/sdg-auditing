{
 "cells": [
  {
   "cell_type": "markdown",
   "id": "7654b961",
   "metadata": {},
   "source": [
    "## Auditing Use Case 2\n",
    "\n",
    "A multinomial regression of approximated Social Grade on Ethnic Group, Country of Birth and Family Composition, i.e. considering these four variables. In this way we could constructive a narrative around use case 1 being focussed on some economic variables/analyses, use case 2 on socio-demographic variables/analyses and use case 3 a broad analysis primarily to test performance of the methods in protecting privacy and preserving utility.\n",
    "\n",
    "The space here is relatively low-dimensional ($\\dim{\\mathcal{F}}$ = 630), and the structure of $\\Phi$ is interesting (a 3-way marginal and 3 2-way marginals, $\\dim{\\Phi} = 182$).\n",
    "\n",
    "We apply the methodology developed in notebook [v4] to a bunch of synthetic data generators:\n",
    "\n",
    "- Honest IPF.\n",
    "- Cheaty IPF.\n",
    "- Honest MST.\n",
    "- Cheaty MST.\n",
    "- synthgauge (cheaty by default).\n",
    "\n",
    "We first generate the vector space and basis (both of which are agnostic to the generator). We then "
   ]
  },
  {
   "cell_type": "code",
   "execution_count": 1,
   "id": "879d6d4c",
   "metadata": {},
   "outputs": [],
   "source": [
    "import itertools\n",
    "import numpy as np\n",
    "import pandas as pd\n",
    "import tqdm\n",
    "import tqdm.notebook\n",
    "\n",
    "import matplotlib.pyplot as plt\n",
    "%matplotlib inline"
   ]
  },
  {
   "cell_type": "code",
   "execution_count": 2,
   "id": "79d97eec",
   "metadata": {},
   "outputs": [],
   "source": [
    "# Loads of warnings coming from the sub-methods, which we don't care about.\n",
    "import warnings\n",
    "warnings.filterwarnings(\"ignore\")"
   ]
  },
  {
   "cell_type": "code",
   "execution_count": 3,
   "id": "56415d41",
   "metadata": {},
   "outputs": [],
   "source": [
    "import auditing"
   ]
  },
  {
   "cell_type": "markdown",
   "id": "26ca3ff4",
   "metadata": {},
   "source": [
    "### Parameters of the auditing"
   ]
  },
  {
   "cell_type": "code",
   "execution_count": 4,
   "id": "fad7133e",
   "metadata": {},
   "outputs": [],
   "source": [
    "# How many times should records be duplicated in extremal datasets?\n",
    "# The higher this number, the lower the sampling error, but the computational cost is linear in num_repeats.\n",
    "num_repeats = 1000"
   ]
  },
  {
   "cell_type": "code",
   "execution_count": 5,
   "id": "71aeac96",
   "metadata": {},
   "outputs": [],
   "source": [
    "# How many synthetic datasets should be generated for candidate selection?\n",
    "# The error most likely decreases as sqrt(num_synthetic)^{-1}, but the computational cost is linear.\n",
    "num_synthetic = 10"
   ]
  },
  {
   "cell_type": "code",
   "execution_count": 6,
   "id": "0d203bd0",
   "metadata": {},
   "outputs": [],
   "source": [
    "# Number of datasets to generate for the second step.\n",
    "num_auditing_samples = 10"
   ]
  },
  {
   "cell_type": "markdown",
   "id": "3893de5a",
   "metadata": {},
   "source": [
    "### Data\n",
    "Load the data in a specific format."
   ]
  },
  {
   "cell_type": "code",
   "execution_count": 7,
   "id": "4216a0da",
   "metadata": {},
   "outputs": [],
   "source": [
    "columns = [\"Ethnic Group\", \"Country of Birth\", \"Family Composition\", \"Approximated Social Grade\"]"
   ]
  },
  {
   "cell_type": "code",
   "execution_count": 8,
   "id": "68e3230f",
   "metadata": {},
   "outputs": [],
   "source": [
    "df = pd.read_csv(\n",
    "    '../../privacy-sdg-toolbox/examples/data/2011 Census Microdata Teaching File (original).csv',\n",
    ")[columns].astype('category')"
   ]
  },
  {
   "cell_type": "code",
   "execution_count": 9,
   "id": "2efe3ff3",
   "metadata": {},
   "outputs": [
    {
     "data": {
      "text/plain": [
       "Index(['Ethnic Group', 'Country of Birth', 'Family Composition',\n",
       "       'Approximated Social Grade'],\n",
       "      dtype='object')"
      ]
     },
     "execution_count": 9,
     "metadata": {},
     "output_type": "execute_result"
    }
   ],
   "source": [
    "df.columns"
   ]
  },
  {
   "cell_type": "code",
   "execution_count": 10,
   "id": "3c35489b",
   "metadata": {},
   "outputs": [],
   "source": [
    "for column in df.columns:\n",
    "    df[column] = df[column].cat.codes"
   ]
  },
  {
   "cell_type": "code",
   "execution_count": 11,
   "id": "779f1d89",
   "metadata": {},
   "outputs": [
    {
     "name": "stdout",
     "output_type": "stream",
     "text": [
      "Size of the space: 630\n"
     ]
    },
    {
     "data": {
      "text/plain": [
       "array([6, 3, 7, 5], dtype=int8)"
      ]
     },
     "execution_count": 11,
     "metadata": {},
     "output_type": "execute_result"
    }
   ],
   "source": [
    "columns = list(df.columns)\n",
    "num_columns = len(df.columns)\n",
    "num_cat = df.max() + 1\n",
    "num_cat_int = num_cat.values\n",
    "print(\"Size of the space:\", np.prod(num_cat_int))\n",
    "num_cat_int"
   ]
  },
  {
   "cell_type": "code",
   "execution_count": 12,
   "id": "eb63f518",
   "metadata": {},
   "outputs": [],
   "source": [
    "metadata = [\n",
    "    {\"name\": column, \"type\": \"finite\", \"representation\": list(range(nc))}\n",
    "    for column, nc in zip(df.columns, num_cat_int)\n",
    "]"
   ]
  },
  {
   "cell_type": "code",
   "execution_count": 13,
   "id": "83082f5b",
   "metadata": {},
   "outputs": [
    {
     "data": {
      "text/plain": [
       "[{'name': 'Ethnic Group',\n",
       "  'type': 'finite',\n",
       "  'representation': [0, 1, 2, 3, 4, 5]},\n",
       " {'name': 'Country of Birth', 'type': 'finite', 'representation': [0, 1, 2]},\n",
       " {'name': 'Family Composition',\n",
       "  'type': 'finite',\n",
       "  'representation': [0, 1, 2, 3, 4, 5, 6]},\n",
       " {'name': 'Approximated Social Grade',\n",
       "  'type': 'finite',\n",
       "  'representation': [0, 1, 2, 3, 4]}]"
      ]
     },
     "execution_count": 13,
     "metadata": {},
     "output_type": "execute_result"
    }
   ],
   "source": [
    "metadata"
   ]
  },
  {
   "cell_type": "markdown",
   "id": "9a22832d",
   "metadata": {},
   "source": [
    "### Linear space\n",
    "\n",
    "Define the vector space: $\\phi$ is the set of all 2-way marginals."
   ]
  },
  {
   "cell_type": "code",
   "execution_count": 14,
   "id": "62694eed",
   "metadata": {},
   "outputs": [],
   "source": [
    "def generate_kway_marginals(columns=None, k=1):\n",
    "    columns = columns or range(len(num_cat_int))\n",
    "    marginals = []\n",
    "    for combs in itertools.combinations(columns, k):\n",
    "        for values in itertools.product(*[range(num_cat_int[i]) for i in combs]):\n",
    "            marginals.append(auditing.MarginalBin(combs, values))\n",
    "    return marginals"
   ]
  },
  {
   "cell_type": "code",
   "execution_count": 15,
   "id": "afdda2c1",
   "metadata": {},
   "outputs": [],
   "source": [
    "phi = generate_kway_marginals(columns=(0,1,2), k=3) + \\\n",
    "        generate_kway_marginals(columns=(0,3), k=2) + \\\n",
    "        generate_kway_marginals(columns=(1,3), k=2) + \\\n",
    "        generate_kway_marginals(columns=(2,3), k=2)"
   ]
  },
  {
   "cell_type": "code",
   "execution_count": 16,
   "id": "e27854af",
   "metadata": {},
   "outputs": [
    {
     "data": {
      "text/plain": [
       "[{x_0\\in[0]^x_1\\in[0]^x_2\\in[0]},\n",
       " {x_0\\in[0]^x_1\\in[0]^x_2\\in[1]},\n",
       " {x_0\\in[0]^x_1\\in[0]^x_2\\in[2]},\n",
       " {x_0\\in[0]^x_1\\in[0]^x_2\\in[3]},\n",
       " {x_0\\in[0]^x_1\\in[0]^x_2\\in[4]},\n",
       " {x_0\\in[0]^x_1\\in[0]^x_2\\in[5]},\n",
       " {x_0\\in[0]^x_1\\in[0]^x_2\\in[6]},\n",
       " {x_0\\in[0]^x_1\\in[1]^x_2\\in[0]},\n",
       " {x_0\\in[0]^x_1\\in[1]^x_2\\in[1]},\n",
       " {x_0\\in[0]^x_1\\in[1]^x_2\\in[2]},\n",
       " {x_0\\in[0]^x_1\\in[1]^x_2\\in[3]},\n",
       " {x_0\\in[0]^x_1\\in[1]^x_2\\in[4]},\n",
       " {x_0\\in[0]^x_1\\in[1]^x_2\\in[5]},\n",
       " {x_0\\in[0]^x_1\\in[1]^x_2\\in[6]},\n",
       " {x_0\\in[0]^x_1\\in[2]^x_2\\in[0]},\n",
       " {x_0\\in[0]^x_1\\in[2]^x_2\\in[1]},\n",
       " {x_0\\in[0]^x_1\\in[2]^x_2\\in[2]},\n",
       " {x_0\\in[0]^x_1\\in[2]^x_2\\in[3]},\n",
       " {x_0\\in[0]^x_1\\in[2]^x_2\\in[4]},\n",
       " {x_0\\in[0]^x_1\\in[2]^x_2\\in[5]},\n",
       " {x_0\\in[0]^x_1\\in[2]^x_2\\in[6]},\n",
       " {x_0\\in[1]^x_1\\in[0]^x_2\\in[0]},\n",
       " {x_0\\in[1]^x_1\\in[0]^x_2\\in[1]},\n",
       " {x_0\\in[1]^x_1\\in[0]^x_2\\in[2]},\n",
       " {x_0\\in[1]^x_1\\in[0]^x_2\\in[3]},\n",
       " {x_0\\in[1]^x_1\\in[0]^x_2\\in[4]},\n",
       " {x_0\\in[1]^x_1\\in[0]^x_2\\in[5]},\n",
       " {x_0\\in[1]^x_1\\in[0]^x_2\\in[6]},\n",
       " {x_0\\in[1]^x_1\\in[1]^x_2\\in[0]},\n",
       " {x_0\\in[1]^x_1\\in[1]^x_2\\in[1]},\n",
       " {x_0\\in[1]^x_1\\in[1]^x_2\\in[2]},\n",
       " {x_0\\in[1]^x_1\\in[1]^x_2\\in[3]},\n",
       " {x_0\\in[1]^x_1\\in[1]^x_2\\in[4]},\n",
       " {x_0\\in[1]^x_1\\in[1]^x_2\\in[5]},\n",
       " {x_0\\in[1]^x_1\\in[1]^x_2\\in[6]},\n",
       " {x_0\\in[1]^x_1\\in[2]^x_2\\in[0]},\n",
       " {x_0\\in[1]^x_1\\in[2]^x_2\\in[1]},\n",
       " {x_0\\in[1]^x_1\\in[2]^x_2\\in[2]},\n",
       " {x_0\\in[1]^x_1\\in[2]^x_2\\in[3]},\n",
       " {x_0\\in[1]^x_1\\in[2]^x_2\\in[4]},\n",
       " {x_0\\in[1]^x_1\\in[2]^x_2\\in[5]},\n",
       " {x_0\\in[1]^x_1\\in[2]^x_2\\in[6]},\n",
       " {x_0\\in[2]^x_1\\in[0]^x_2\\in[0]},\n",
       " {x_0\\in[2]^x_1\\in[0]^x_2\\in[1]},\n",
       " {x_0\\in[2]^x_1\\in[0]^x_2\\in[2]},\n",
       " {x_0\\in[2]^x_1\\in[0]^x_2\\in[3]},\n",
       " {x_0\\in[2]^x_1\\in[0]^x_2\\in[4]},\n",
       " {x_0\\in[2]^x_1\\in[0]^x_2\\in[5]},\n",
       " {x_0\\in[2]^x_1\\in[0]^x_2\\in[6]},\n",
       " {x_0\\in[2]^x_1\\in[1]^x_2\\in[0]},\n",
       " {x_0\\in[2]^x_1\\in[1]^x_2\\in[1]},\n",
       " {x_0\\in[2]^x_1\\in[1]^x_2\\in[2]},\n",
       " {x_0\\in[2]^x_1\\in[1]^x_2\\in[3]},\n",
       " {x_0\\in[2]^x_1\\in[1]^x_2\\in[4]},\n",
       " {x_0\\in[2]^x_1\\in[1]^x_2\\in[5]},\n",
       " {x_0\\in[2]^x_1\\in[1]^x_2\\in[6]},\n",
       " {x_0\\in[2]^x_1\\in[2]^x_2\\in[0]},\n",
       " {x_0\\in[2]^x_1\\in[2]^x_2\\in[1]},\n",
       " {x_0\\in[2]^x_1\\in[2]^x_2\\in[2]},\n",
       " {x_0\\in[2]^x_1\\in[2]^x_2\\in[3]},\n",
       " {x_0\\in[2]^x_1\\in[2]^x_2\\in[4]},\n",
       " {x_0\\in[2]^x_1\\in[2]^x_2\\in[5]},\n",
       " {x_0\\in[2]^x_1\\in[2]^x_2\\in[6]},\n",
       " {x_0\\in[3]^x_1\\in[0]^x_2\\in[0]},\n",
       " {x_0\\in[3]^x_1\\in[0]^x_2\\in[1]},\n",
       " {x_0\\in[3]^x_1\\in[0]^x_2\\in[2]},\n",
       " {x_0\\in[3]^x_1\\in[0]^x_2\\in[3]},\n",
       " {x_0\\in[3]^x_1\\in[0]^x_2\\in[4]},\n",
       " {x_0\\in[3]^x_1\\in[0]^x_2\\in[5]},\n",
       " {x_0\\in[3]^x_1\\in[0]^x_2\\in[6]},\n",
       " {x_0\\in[3]^x_1\\in[1]^x_2\\in[0]},\n",
       " {x_0\\in[3]^x_1\\in[1]^x_2\\in[1]},\n",
       " {x_0\\in[3]^x_1\\in[1]^x_2\\in[2]},\n",
       " {x_0\\in[3]^x_1\\in[1]^x_2\\in[3]},\n",
       " {x_0\\in[3]^x_1\\in[1]^x_2\\in[4]},\n",
       " {x_0\\in[3]^x_1\\in[1]^x_2\\in[5]},\n",
       " {x_0\\in[3]^x_1\\in[1]^x_2\\in[6]},\n",
       " {x_0\\in[3]^x_1\\in[2]^x_2\\in[0]},\n",
       " {x_0\\in[3]^x_1\\in[2]^x_2\\in[1]},\n",
       " {x_0\\in[3]^x_1\\in[2]^x_2\\in[2]},\n",
       " {x_0\\in[3]^x_1\\in[2]^x_2\\in[3]},\n",
       " {x_0\\in[3]^x_1\\in[2]^x_2\\in[4]},\n",
       " {x_0\\in[3]^x_1\\in[2]^x_2\\in[5]},\n",
       " {x_0\\in[3]^x_1\\in[2]^x_2\\in[6]},\n",
       " {x_0\\in[4]^x_1\\in[0]^x_2\\in[0]},\n",
       " {x_0\\in[4]^x_1\\in[0]^x_2\\in[1]},\n",
       " {x_0\\in[4]^x_1\\in[0]^x_2\\in[2]},\n",
       " {x_0\\in[4]^x_1\\in[0]^x_2\\in[3]},\n",
       " {x_0\\in[4]^x_1\\in[0]^x_2\\in[4]},\n",
       " {x_0\\in[4]^x_1\\in[0]^x_2\\in[5]},\n",
       " {x_0\\in[4]^x_1\\in[0]^x_2\\in[6]},\n",
       " {x_0\\in[4]^x_1\\in[1]^x_2\\in[0]},\n",
       " {x_0\\in[4]^x_1\\in[1]^x_2\\in[1]},\n",
       " {x_0\\in[4]^x_1\\in[1]^x_2\\in[2]},\n",
       " {x_0\\in[4]^x_1\\in[1]^x_2\\in[3]},\n",
       " {x_0\\in[4]^x_1\\in[1]^x_2\\in[4]},\n",
       " {x_0\\in[4]^x_1\\in[1]^x_2\\in[5]},\n",
       " {x_0\\in[4]^x_1\\in[1]^x_2\\in[6]},\n",
       " {x_0\\in[4]^x_1\\in[2]^x_2\\in[0]},\n",
       " {x_0\\in[4]^x_1\\in[2]^x_2\\in[1]},\n",
       " {x_0\\in[4]^x_1\\in[2]^x_2\\in[2]},\n",
       " {x_0\\in[4]^x_1\\in[2]^x_2\\in[3]},\n",
       " {x_0\\in[4]^x_1\\in[2]^x_2\\in[4]},\n",
       " {x_0\\in[4]^x_1\\in[2]^x_2\\in[5]},\n",
       " {x_0\\in[4]^x_1\\in[2]^x_2\\in[6]},\n",
       " {x_0\\in[5]^x_1\\in[0]^x_2\\in[0]},\n",
       " {x_0\\in[5]^x_1\\in[0]^x_2\\in[1]},\n",
       " {x_0\\in[5]^x_1\\in[0]^x_2\\in[2]},\n",
       " {x_0\\in[5]^x_1\\in[0]^x_2\\in[3]},\n",
       " {x_0\\in[5]^x_1\\in[0]^x_2\\in[4]},\n",
       " {x_0\\in[5]^x_1\\in[0]^x_2\\in[5]},\n",
       " {x_0\\in[5]^x_1\\in[0]^x_2\\in[6]},\n",
       " {x_0\\in[5]^x_1\\in[1]^x_2\\in[0]},\n",
       " {x_0\\in[5]^x_1\\in[1]^x_2\\in[1]},\n",
       " {x_0\\in[5]^x_1\\in[1]^x_2\\in[2]},\n",
       " {x_0\\in[5]^x_1\\in[1]^x_2\\in[3]},\n",
       " {x_0\\in[5]^x_1\\in[1]^x_2\\in[4]},\n",
       " {x_0\\in[5]^x_1\\in[1]^x_2\\in[5]},\n",
       " {x_0\\in[5]^x_1\\in[1]^x_2\\in[6]},\n",
       " {x_0\\in[5]^x_1\\in[2]^x_2\\in[0]},\n",
       " {x_0\\in[5]^x_1\\in[2]^x_2\\in[1]},\n",
       " {x_0\\in[5]^x_1\\in[2]^x_2\\in[2]},\n",
       " {x_0\\in[5]^x_1\\in[2]^x_2\\in[3]},\n",
       " {x_0\\in[5]^x_1\\in[2]^x_2\\in[4]},\n",
       " {x_0\\in[5]^x_1\\in[2]^x_2\\in[5]},\n",
       " {x_0\\in[5]^x_1\\in[2]^x_2\\in[6]},\n",
       " {x_0\\in[0]^x_3\\in[0]},\n",
       " {x_0\\in[0]^x_3\\in[1]},\n",
       " {x_0\\in[0]^x_3\\in[2]},\n",
       " {x_0\\in[0]^x_3\\in[3]},\n",
       " {x_0\\in[0]^x_3\\in[4]},\n",
       " {x_0\\in[1]^x_3\\in[0]},\n",
       " {x_0\\in[1]^x_3\\in[1]},\n",
       " {x_0\\in[1]^x_3\\in[2]},\n",
       " {x_0\\in[1]^x_3\\in[3]},\n",
       " {x_0\\in[1]^x_3\\in[4]},\n",
       " {x_0\\in[2]^x_3\\in[0]},\n",
       " {x_0\\in[2]^x_3\\in[1]},\n",
       " {x_0\\in[2]^x_3\\in[2]},\n",
       " {x_0\\in[2]^x_3\\in[3]},\n",
       " {x_0\\in[2]^x_3\\in[4]},\n",
       " {x_0\\in[3]^x_3\\in[0]},\n",
       " {x_0\\in[3]^x_3\\in[1]},\n",
       " {x_0\\in[3]^x_3\\in[2]},\n",
       " {x_0\\in[3]^x_3\\in[3]},\n",
       " {x_0\\in[3]^x_3\\in[4]},\n",
       " {x_0\\in[4]^x_3\\in[0]},\n",
       " {x_0\\in[4]^x_3\\in[1]},\n",
       " {x_0\\in[4]^x_3\\in[2]},\n",
       " {x_0\\in[4]^x_3\\in[3]},\n",
       " {x_0\\in[4]^x_3\\in[4]},\n",
       " {x_0\\in[5]^x_3\\in[0]},\n",
       " {x_0\\in[5]^x_3\\in[1]},\n",
       " {x_0\\in[5]^x_3\\in[2]},\n",
       " {x_0\\in[5]^x_3\\in[3]},\n",
       " {x_0\\in[5]^x_3\\in[4]},\n",
       " {x_1\\in[0]^x_3\\in[0]},\n",
       " {x_1\\in[0]^x_3\\in[1]},\n",
       " {x_1\\in[0]^x_3\\in[2]},\n",
       " {x_1\\in[0]^x_3\\in[3]},\n",
       " {x_1\\in[0]^x_3\\in[4]},\n",
       " {x_1\\in[1]^x_3\\in[0]},\n",
       " {x_1\\in[1]^x_3\\in[1]},\n",
       " {x_1\\in[1]^x_3\\in[2]},\n",
       " {x_1\\in[1]^x_3\\in[3]},\n",
       " {x_1\\in[1]^x_3\\in[4]},\n",
       " {x_1\\in[2]^x_3\\in[0]},\n",
       " {x_1\\in[2]^x_3\\in[1]},\n",
       " {x_1\\in[2]^x_3\\in[2]},\n",
       " {x_1\\in[2]^x_3\\in[3]},\n",
       " {x_1\\in[2]^x_3\\in[4]},\n",
       " {x_2\\in[0]^x_3\\in[0]},\n",
       " {x_2\\in[0]^x_3\\in[1]},\n",
       " {x_2\\in[0]^x_3\\in[2]},\n",
       " {x_2\\in[0]^x_3\\in[3]},\n",
       " {x_2\\in[0]^x_3\\in[4]},\n",
       " {x_2\\in[1]^x_3\\in[0]},\n",
       " {x_2\\in[1]^x_3\\in[1]},\n",
       " {x_2\\in[1]^x_3\\in[2]},\n",
       " {x_2\\in[1]^x_3\\in[3]},\n",
       " {x_2\\in[1]^x_3\\in[4]},\n",
       " {x_2\\in[2]^x_3\\in[0]},\n",
       " {x_2\\in[2]^x_3\\in[1]},\n",
       " {x_2\\in[2]^x_3\\in[2]},\n",
       " {x_2\\in[2]^x_3\\in[3]},\n",
       " {x_2\\in[2]^x_3\\in[4]},\n",
       " {x_2\\in[3]^x_3\\in[0]},\n",
       " {x_2\\in[3]^x_3\\in[1]},\n",
       " {x_2\\in[3]^x_3\\in[2]},\n",
       " {x_2\\in[3]^x_3\\in[3]},\n",
       " {x_2\\in[3]^x_3\\in[4]},\n",
       " {x_2\\in[4]^x_3\\in[0]},\n",
       " {x_2\\in[4]^x_3\\in[1]},\n",
       " {x_2\\in[4]^x_3\\in[2]},\n",
       " {x_2\\in[4]^x_3\\in[3]},\n",
       " {x_2\\in[4]^x_3\\in[4]},\n",
       " {x_2\\in[5]^x_3\\in[0]},\n",
       " {x_2\\in[5]^x_3\\in[1]},\n",
       " {x_2\\in[5]^x_3\\in[2]},\n",
       " {x_2\\in[5]^x_3\\in[3]},\n",
       " {x_2\\in[5]^x_3\\in[4]},\n",
       " {x_2\\in[6]^x_3\\in[0]},\n",
       " {x_2\\in[6]^x_3\\in[1]},\n",
       " {x_2\\in[6]^x_3\\in[2]},\n",
       " {x_2\\in[6]^x_3\\in[3]},\n",
       " {x_2\\in[6]^x_3\\in[4]}]"
      ]
     },
     "execution_count": 16,
     "metadata": {},
     "output_type": "execute_result"
    }
   ],
   "source": [
    "phi"
   ]
  },
  {
   "cell_type": "code",
   "execution_count": 17,
   "id": "bcf9f0d7",
   "metadata": {},
   "outputs": [
    {
     "data": {
      "text/plain": [
       "206"
      ]
     },
     "execution_count": 17,
     "metadata": {},
     "output_type": "execute_result"
    }
   ],
   "source": [
    "len(phi)"
   ]
  },
  {
   "cell_type": "code",
   "execution_count": 18,
   "id": "062050cd",
   "metadata": {},
   "outputs": [],
   "source": [
    "# Write the scalar product for the whole space.\n",
    "# scalar_product = auditing.NaiveScalarProduct(num_cat_int)\n",
    "scalar_product = auditing.LinearCompositionScalarProduct(\n",
    "    auditing.HistogramScalarProduct(num_cat)\n",
    ")"
   ]
  },
  {
   "cell_type": "code",
   "execution_count": 19,
   "id": "821d1887",
   "metadata": {},
   "outputs": [],
   "source": [
    "# The linear space created by the known phis.\n",
    "linspan_phi = auditing.OrthogonalSpace(scalar_product, phi)"
   ]
  },
  {
   "cell_type": "code",
   "execution_count": 20,
   "id": "4c2951bd",
   "metadata": {},
   "outputs": [
    {
     "data": {
      "text/plain": [
       "182"
      ]
     },
     "execution_count": 20,
     "metadata": {},
     "output_type": "execute_result"
    }
   ],
   "source": [
    "len(linspan_phi.basis)"
   ]
  },
  {
   "cell_type": "markdown",
   "id": "3674dadb",
   "metadata": {},
   "source": [
    "Define the candidate set $\\mathcal{C}$ of all *four-way marginal bins*. This is a basis of $\\mathcal{F}$."
   ]
  },
  {
   "cell_type": "code",
   "execution_count": 21,
   "id": "d8c25db7",
   "metadata": {},
   "outputs": [],
   "source": [
    "C = generate_kway_marginals(k=4)"
   ]
  },
  {
   "cell_type": "code",
   "execution_count": 22,
   "id": "1dbea8db",
   "metadata": {
    "scrolled": false
   },
   "outputs": [],
   "source": [
    "# %%time\n",
    "# C_perp = [linspan_phi.orthogonalise(b) for b in C]\n",
    "# linspan_phi_perp = auditing.OrthogonalSpace(scalar_product, C_perp)\n",
    "# phi_perp_basis = [auditing.refactor_linear_combination(b) for b in linspan_phi_perp.basis]"
   ]
  },
  {
   "cell_type": "markdown",
   "id": "8650761f",
   "metadata": {},
   "source": [
    "We here implement the alternative method developed for use case 3."
   ]
  },
  {
   "cell_type": "code",
   "execution_count": 23,
   "id": "0374299d",
   "metadata": {},
   "outputs": [
    {
     "name": "stdout",
     "output_type": "stream",
     "text": [
      "CPU times: user 6.46 s, sys: 117 ms, total: 6.57 s\n",
      "Wall time: 6.74 s\n"
     ]
    }
   ],
   "source": [
    "%%time\n",
    "combined_space = auditing.OrthogonalSpace(scalar_product, phi + list(C))"
   ]
  },
  {
   "cell_type": "code",
   "execution_count": 24,
   "id": "c265111d",
   "metadata": {},
   "outputs": [],
   "source": [
    "phi_perp_basis = combined_space.basis[len(linspan_phi.basis):]"
   ]
  },
  {
   "cell_type": "code",
   "execution_count": 25,
   "id": "be37efc9",
   "metadata": {},
   "outputs": [
    {
     "data": {
      "text/plain": [
       "448"
      ]
     },
     "execution_count": 25,
     "metadata": {},
     "output_type": "execute_result"
    }
   ],
   "source": [
    "k = len(phi_perp_basis)\n",
    "k"
   ]
  },
  {
   "cell_type": "markdown",
   "id": "16562dc2",
   "metadata": {},
   "source": [
    "Check that $dim(\\text{span}\\left<\\phi\\right>) + dim(\\text{span}\\left<\\phi\\right>^\\perp) = dim(\\mathcal{F})$."
   ]
  },
  {
   "cell_type": "code",
   "execution_count": 26,
   "id": "322c15fe",
   "metadata": {},
   "outputs": [],
   "source": [
    "assert len(linspan_phi.basis) + k == np.prod(num_cat_int), \"Linear space not well defined!\""
   ]
  },
  {
   "cell_type": "markdown",
   "id": "cf049a9c",
   "metadata": {},
   "source": [
    "### Auditing toolkit"
   ]
  },
  {
   "cell_type": "code",
   "execution_count": 27,
   "id": "8c13c853",
   "metadata": {},
   "outputs": [],
   "source": [
    "# All possible records.\n",
    "unique_records = pd.DataFrame(list(itertools.product(*[range(nc) for nc in num_cat_int])), columns=columns)"
   ]
  },
  {
   "cell_type": "code",
   "execution_count": 28,
   "id": "3a5ebcb3",
   "metadata": {},
   "outputs": [],
   "source": [
    "beta = auditing.AddedFunctions(*phi_perp_basis)\n",
    "beta = auditing.refactor_linear_combination(beta)"
   ]
  },
  {
   "cell_type": "code",
   "execution_count": 29,
   "id": "59045e1d",
   "metadata": {},
   "outputs": [],
   "source": [
    "auditor = auditing.Auditor(phi, unique_records, len(unique_records), use_lp=False)"
   ]
  },
  {
   "cell_type": "code",
   "execution_count": 30,
   "id": "c73ca075",
   "metadata": {},
   "outputs": [],
   "source": [
    "D_minus, D_plus = auditor.generate_extremal_datasets(beta, num_repeats=num_repeats)"
   ]
  },
  {
   "cell_type": "markdown",
   "id": "5bf0e97d",
   "metadata": {},
   "source": [
    "This function selects a candidate function $g$, given a generator. It does the following:\n",
    "\n",
    "1. Compute $\\beta = \\sum_{i=1}^k b_i$ and generate a pair of extremal datasets $D^-, D^+$ for $\\beta$.\n",
    "2. Generate synthetic datatsets from these extremal datasets, $D^{s-},D^{s+}$. \n",
    "3. Compute $\\delta_i \\triangleq \\Delta^S b_i = b_i(D^{s-}) - b_i(D^{s+})$.\n",
    "4. Estimate $g$ as $\\hat{g} = \\sum_{i=1}^k \\frac{\\delta_i}{\\|\\delta\\|} b_i$.\n",
    "\n",
    "Steps 2. and 3. can be repeated several times, and $\\delta_i$ averaged over the runs, to reduce randomness."
   ]
  },
  {
   "cell_type": "code",
   "execution_count": 31,
   "id": "1b879d0b",
   "metadata": {},
   "outputs": [],
   "source": [
    "# See notebook 8. for more details on this optimisation.\n",
    "\n",
    "def compute_delta_optimised(D_synth_plus, D_synth_minus, phi_perp_basis):\n",
    "    # Decompose each basis element in factors.\n",
    "    factored_basis = []\n",
    "    factors = set()\n",
    "    for b in phi_perp_basis:\n",
    "        lin_f = auditing.split_linear_combination(b)\n",
    "        factored_basis.append(lin_f)\n",
    "        # Add each factor in the basis to unique factors.\n",
    "        for f in lin_f.keys():\n",
    "            factors.add(f)\n",
    "    # Compute the value of each factor over the datasets.\n",
    "    # This is where the optimisation lies!\n",
    "    factor_plus = {}\n",
    "    factor_minus = {}\n",
    "    for f in factors:\n",
    "        factor_plus[f] = f(D_synth_plus).mean()\n",
    "        factor_minus[f] = f(D_synth_minus).mean()\n",
    "    # Finally, combine these answers.\n",
    "    delta = []\n",
    "    for b_factors in factored_basis:\n",
    "        b_plus = 0\n",
    "        b_minus = 0\n",
    "        for f, a in b_factors.items():\n",
    "            b_plus = b_plus + a * factor_plus[f]\n",
    "            b_minus = b_minus + a * factor_minus[f]\n",
    "        delta.append(b_plus - b_minus)\n",
    "    return delta"
   ]
  },
  {
   "cell_type": "code",
   "execution_count": 32,
   "id": "4df05503",
   "metadata": {},
   "outputs": [],
   "source": [
    "def candidate_selection(generator, num_synth):\n",
    "    deltas = []\n",
    "    for repeat in tqdm.notebook.trange(num_synth):\n",
    "        D_synth_minus = generator(D_minus)\n",
    "        D_synth_plus = generator(D_plus)\n",
    "#         delta = []\n",
    "#         for b in phi_perp_basis:\n",
    "#             delta.append(b(D_synth_plus).mean() - b(D_synth_minus).mean())\n",
    "#         deltas.append(delta)\n",
    "        deltas.append(compute_delta_optimised(D_synth_plus, D_synth_minus, phi_perp_basis))\n",
    "    deltas = np.mean(deltas, axis=0)\n",
    "    scale = deltas / np.linalg.norm(deltas)\n",
    "    return auditing.refactor_linear_combination(\n",
    "        auditing.AddedFunctions(*[s*b for s,b in zip(scale, phi_perp_basis)])\n",
    "    )"
   ]
  },
  {
   "cell_type": "code",
   "execution_count": 14,
   "id": "40650810",
   "metadata": {},
   "outputs": [],
   "source": [
    "def auditing_plot(results, color, label):\n",
    "    x = []\n",
    "    y = []\n",
    "    df_r = pd.DataFrame(results, columns=('real', 'synth'))\n",
    "    for real, subdf in df_r.groupby('real'):\n",
    "        x.append(real)\n",
    "        y.append(subdf.synth.values.mean())\n",
    "    plt.plot(x, y, '*-', c=color, label=label)\n",
    "    x, y = zip(*results)\n",
    "    ix = np.argsort(x)\n",
    "    plt.plot(np.array(x)[ix], np.array(y)[ix], '.', c=color, ms=10, alpha=.2)"
   ]
  },
  {
   "cell_type": "markdown",
   "id": "509551b6",
   "metadata": {},
   "source": [
    "Bring together the results."
   ]
  },
  {
   "cell_type": "code",
   "execution_count": 34,
   "id": "f40887d0",
   "metadata": {},
   "outputs": [],
   "source": [
    "def audit(generator, num_samples, label=''):\n",
    "    g = candidate_selection(generator, num_synth=num_synthetic)\n",
    "    results = auditor.audit(\n",
    "        generator,\n",
    "        g,\n",
    "        num_samples=num_samples,\n",
    "        num_repeats=num_repeats,\n",
    "        iterator=tqdm.notebook.tqdm,\n",
    "    )\n",
    "    plt.figure(figsize=(7,7))\n",
    "    auditing_plot(results, 'b', label)\n",
    "    plt.xlabel(\"Value of $g(D_{input})$ for fixed $\\\\phi(D_{input})$\", fontsize=15)\n",
    "    plt.ylabel(\"Value of $g(D_{synthetic})$ generated from $D_{input}$\", fontsize=15)\n",
    "    plt.legend()\n",
    "    return g, results"
   ]
  },
  {
   "cell_type": "markdown",
   "id": "12e1e9c0",
   "metadata": {},
   "source": [
    "### Generators"
   ]
  },
  {
   "cell_type": "code",
   "execution_count": 63,
   "id": "683044eb",
   "metadata": {},
   "outputs": [],
   "source": [
    "from reprosyn.methods import MST, SYNTHPOP, CTGAN, PATEGAN\n",
    "from raw_ipf import IPF  # temporary library with optimisations."
   ]
  },
  {
   "cell_type": "code",
   "execution_count": 36,
   "id": "0554be35",
   "metadata": {},
   "outputs": [],
   "source": [
    "from mbi import Domain, Dataset, FactoredInference"
   ]
  },
  {
   "cell_type": "code",
   "execution_count": 37,
   "id": "eae25897",
   "metadata": {},
   "outputs": [],
   "source": [
    "safe_marginals = [(0, 1, 2), (0, 3), (1, 3), (2, 3)]"
   ]
  },
  {
   "cell_type": "code",
   "execution_count": 38,
   "id": "8355de3f",
   "metadata": {},
   "outputs": [],
   "source": [
    "# EVERYTHING (cheating a lot).\n",
    "cheat_marginals = [(0, 1, 2, 3)]"
   ]
  },
  {
   "cell_type": "code",
   "execution_count": 45,
   "id": "30854901",
   "metadata": {},
   "outputs": [],
   "source": [
    "def generate_ipf(dataset, cheat = False):\n",
    "    marginals = list(safe_marginals)\n",
    "    if cheat:\n",
    "        marginals += cheat_marginals\n",
    "    ipf = IPF(\n",
    "        dataset=pd.DataFrame(dataset, columns=columns),\n",
    "        metadata=metadata,\n",
    "        size=len(dataset),\n",
    "        marginals=marginals\n",
    "    )\n",
    "    ipf.run()\n",
    "    return ipf.output.values"
   ]
  },
  {
   "cell_type": "code",
   "execution_count": 40,
   "id": "b884541c",
   "metadata": {},
   "outputs": [],
   "source": [
    "def generate_mst(dataset, cheat = False, sigma = 0.001):\n",
    "    domain = Domain(columns, num_cat_int)\n",
    "    dataset_mbi = Dataset(pd.DataFrame(dataset, columns=columns), domain)\n",
    "    # Get measurements for 1-way histogram.\n",
    "    marginals = list(safe_marginals)\n",
    "    if cheat:\n",
    "        marginals += cheat_marginals\n",
    "    marginals = [[columns[i] for i in m] for m in marginals]\n",
    "    histograms = [dataset_mbi.project(m).datavector() for m in marginals]\n",
    "    measurements = [(np.eye(h.size), h, sigma, m) for m, h in zip(marginals, histograms)]\n",
    "    # Use the MBI procedure for the rest.\n",
    "    engine = FactoredInference(domain, log=False)\n",
    "    model = engine.estimate(measurements, engine='MD')\n",
    "    synth = model.synthetic_data(rows=len(dataset))\n",
    "    return synth.df.values"
   ]
  },
  {
   "cell_type": "code",
   "execution_count": 41,
   "id": "48131588",
   "metadata": {},
   "outputs": [],
   "source": [
    "def generate_synthpop(dataset):\n",
    "    model = SYNTHPOP(\n",
    "        dataset=pd.DataFrame(dataset, columns=columns),\n",
    "        metadata=metadata,\n",
    "        size=len(dataset)\n",
    "    )\n",
    "    model.run()\n",
    "    return model.output.values"
   ]
  },
  {
   "cell_type": "code",
   "execution_count": 85,
   "id": "dd7b5d9c",
   "metadata": {},
   "outputs": [],
   "source": [
    "metadata_approx = [\n",
    "    {'name': m['name'], 'type':m['type'], 'representation': [str(s) for s in m['representation']]} for m in metadata\n",
    "]"
   ]
  },
  {
   "cell_type": "code",
   "execution_count": 89,
   "id": "cabd1b2d",
   "metadata": {},
   "outputs": [],
   "source": [
    "def generate_pategan(dataset):\n",
    "    model = PATEGAN(\n",
    "        dataset=pd.DataFrame(dataset, columns=columns),\n",
    "        metadata=metadata_approx,\n",
    "        size=len(dataset),\n",
    "        epsilon = 1000\n",
    "    )\n",
    "    model.run()\n",
    "    return model.output.values.astype(int)"
   ]
  },
  {
   "cell_type": "markdown",
   "id": "b663af2b",
   "metadata": {},
   "source": [
    "Grouping them together."
   ]
  },
  {
   "cell_type": "code",
   "execution_count": 90,
   "id": "824682e7",
   "metadata": {},
   "outputs": [],
   "source": [
    "# List of method name, whether it cheats, and the function.\n",
    "\n",
    "methods = [\n",
    "#     (\"IPF-Honest\", False, generate_ipf),\n",
    "#     (\"IPF-Cheat\", True, lambda data: generate_ipf(data, cheat=True)),\n",
    "#     (\"MST-Honest\", False, generate_mst),\n",
    "#     (\"MST-Cheat\", True, lambda data: generate_mst(data, cheat=True)),\n",
    "#     (\"SynthPop\", True, generate_synthpop),\n",
    "    (\"PATEGAN\", True, generate_pategan)\n",
    "]"
   ]
  },
  {
   "cell_type": "markdown",
   "id": "c4c81677",
   "metadata": {},
   "source": [
    "Run."
   ]
  },
  {
   "cell_type": "code",
   "execution_count": 43,
   "id": "280ce932",
   "metadata": {},
   "outputs": [],
   "source": [
    "results = []"
   ]
  },
  {
   "cell_type": "code",
   "execution_count": 91,
   "id": "693efc56",
   "metadata": {
    "scrolled": true
   },
   "outputs": [
    {
     "name": "stdout",
     "output_type": "stream",
     "text": [
      "====== PATEGAN ======\n"
     ]
    },
    {
     "data": {
      "application/vnd.jupyter.widget-view+json": {
       "model_id": "df18f678faf64b71ae2bf6b21b93b89e",
       "version_major": 2,
       "version_minor": 0
      },
      "text/plain": [
       "  0%|          | 0/10 [00:00<?, ?it/s]"
      ]
     },
     "metadata": {},
     "output_type": "display_data"
    },
    {
     "data": {
      "application/vnd.jupyter.widget-view+json": {
       "model_id": "db1b75e9dbd4461b9d2a9398362f266a",
       "version_major": 2,
       "version_minor": 0
      },
      "text/plain": [
       "  0%|          | 0/10 [00:00<?, ?it/s]"
      ]
     },
     "metadata": {},
     "output_type": "display_data"
    },
    {
     "data": {
      "application/vnd.jupyter.widget-view+json": {
       "model_id": "85a0a882d1fb427182704fa7b8b93dd6",
       "version_major": 2,
       "version_minor": 0
      },
      "text/plain": [
       "  0%|          | 0/10 [00:00<?, ?it/s]"
      ]
     },
     "metadata": {},
     "output_type": "display_data"
    },
    {
     "name": "stdout",
     "output_type": "stream",
     "text": [
      "\n",
      "\n"
     ]
    },
    {
     "data": {
      "image/png": "[encoded data removed]",
      "text/plain": [
       "<Figure size 700x700 with 1 Axes>"
      ]
     },
     "metadata": {},
     "output_type": "display_data"
    }
   ],
   "source": [
    "for name, cheat_flag, method in methods:\n",
    "    print(f'====== {name} ======')\n",
    "    results.append((audit(method, num_auditing_samples, name), name, cheat_flag))\n",
    "    print('\\n')"
   ]
  },
  {
   "cell_type": "code",
   "execution_count": 15,
   "id": "f7ff52da",
   "metadata": {},
   "outputs": [],
   "source": [
    "import pickle"
   ]
  },
  {
   "cell_type": "code",
   "execution_count": 49,
   "id": "b5e2fcac",
   "metadata": {},
   "outputs": [],
   "source": [
    "with open('results-auditing-case2.pickle', 'wb') as ff:\n",
    "    pickle.dump(results, ff)"
   ]
  },
  {
   "cell_type": "markdown",
   "id": "6c764f36",
   "metadata": {},
   "source": [
    "## Results"
   ]
  },
  {
   "cell_type": "code",
   "execution_count": 16,
   "id": "09b4fdbb",
   "metadata": {},
   "outputs": [],
   "source": [
    "with open('results-auditing-case2.pickle', 'rb') as ff:\n",
    "    results = pickle.load(ff)"
   ]
  },
  {
   "cell_type": "markdown",
   "id": "8d8a64b4",
   "metadata": {},
   "source": [
    "### Figure for the differences"
   ]
  },
  {
   "cell_type": "code",
   "execution_count": 17,
   "id": "b9279ef4",
   "metadata": {},
   "outputs": [],
   "source": [
    "renaming = {\n",
    "    \"IPF-Honest\": \"IPF (Honest)\",\n",
    "    \"IPF-Cheat\": \"IPF (Dishonest)\",\n",
    "    \"MST-Honest\": \"MST (Honest)\",\n",
    "    \"MST-Cheat\": \"MST (Dishonest)\",\n",
    "    \"SynthPop\": \"SynthPop\"\n",
    "}"
   ]
  },
  {
   "cell_type": "code",
   "execution_count": 18,
   "id": "1a38fa10",
   "metadata": {
    "scrolled": false
   },
   "outputs": [
    {
     "data": {
      "image/png": "[encoded data removed]",
      "text/plain": [
       "<Figure size 1296x288 with 5 Axes>"
      ]
     },
     "metadata": {
      "needs_background": "light"
     },
     "output_type": "display_data"
    }
   ],
   "source": [
    "plt.figure(figsize=(18, 4))\n",
    "\n",
    "i = 1\n",
    "for r, name, cheat_flag in results:\n",
    "    plt.subplot(1, len(results), i)\n",
    "    auditing_plot(r[1], 'r' if cheat_flag else 'g', name)\n",
    "    plt.xlabel(\"Value of $g(D^{(r)})$ for fixed $\\\\phi(D^{(r)})$\", fontsize=15)\n",
    "    if i==1:\n",
    "        plt.ylabel(\"Value of $g(D^{(s)})$ generated from $D^{(r)}$\", fontsize=12)\n",
    "    plt.title(renaming[name], fontsize=20)\n",
    "    i += 1\n",
    "\n",
    "plt.tight_layout()\n",
    "plt.savefig(\"auditing_usecase2.pdf\");"
   ]
  },
  {
   "cell_type": "code",
   "execution_count": 19,
   "id": "75468460",
   "metadata": {},
   "outputs": [
    {
     "data": {
      "image/png": "[encoded data removed]",
      "text/plain": [
       "<Figure size 1296x288 with 5 Axes>"
      ]
     },
     "metadata": {
      "needs_background": "light"
     },
     "output_type": "display_data"
    }
   ],
   "source": [
    "def better_plot(results, color, label):\n",
    "    x = []\n",
    "    y = []\n",
    "    df_r = pd.DataFrame(results, columns=('real', 'synth'))\n",
    "    for real, subdf in df_r.groupby('real'):\n",
    "        x.append(real)\n",
    "        y.append(subdf.synth.values)\n",
    "#     plt.boxplot(y, labels=[f\"{i:.2f}\" for i in x])\n",
    "    plt.boxplot(y, labels=[\"$D^-$\", \"$D^+$\"])\n",
    "\n",
    "plt.figure(figsize=(18, 4))\n",
    "\n",
    "i = 1\n",
    "for r, name, cheat_flag in results:\n",
    "    plt.subplot(1, len(results), i)\n",
    "    better_plot(r[1], 'r' if cheat_flag else 'g', name)\n",
    "#     plt.xlabel(\"Value of $g(D^{(r)})$ for fixed $\\\\phi(D^{(r)})$\", fontsize=15)\n",
    "    if i==1:\n",
    "        plt.ylabel(\"Value of $g(D^{(s)})$ generated from $D^{(r)}$\", fontsize=12)\n",
    "    plt.title(renaming[name], fontsize=20)\n",
    "    i += 1\n",
    "\n",
    "plt.tight_layout()\n",
    "plt.savefig(\"auditing_usecase2.pdf\");"
   ]
  },
  {
   "cell_type": "markdown",
   "id": "ce708216",
   "metadata": {},
   "source": [
    "### Statistical test"
   ]
  },
  {
   "cell_type": "code",
   "execution_count": 93,
   "id": "5c84de5c",
   "metadata": {},
   "outputs": [],
   "source": [
    "from scipy.stats import ttest_ind"
   ]
  },
  {
   "cell_type": "code",
   "execution_count": 94,
   "id": "99967ae7",
   "metadata": {},
   "outputs": [
    {
     "name": "stdout",
     "output_type": "stream",
     "text": [
      "IPF-Honest -- [False] \t 0.669967856927341\n",
      "IPF-Cheat -- [True] \t 2.9227695169118954e-37\n",
      "MST-Honest -- [False] \t 0.9431082874727011\n",
      "MST-Cheat -- [True] \t 2.958490312486175e-69\n",
      "SynthPop -- [True] \t 3.928648534040573e-38\n",
      "PATEGAN -- [True] \t 0.4873145402859381\n"
     ]
    }
   ],
   "source": [
    "for r, name, cheat_flag in results:\n",
    "    x = [x[1] for x in r[1]]\n",
    "    t_test_result = ttest_ind(x[:num_auditing_samples], x[num_auditing_samples:])\n",
    "    print(f\"{name} -- [{cheat_flag}]\", '\\t', t_test_result.pvalue)"
   ]
  }
 ],
 "metadata": {
  "kernelspec": {
   "display_name": "Python 3 (ipykernel)",
   "language": "python",
   "name": "python3"
  },
  "language_info": {
   "codemirror_mode": {
    "name": "ipython",
    "version": 3
   },
   "file_extension": ".py",
   "mimetype": "text/x-python",
   "name": "python",
   "nbconvert_exporter": "python",
   "pygments_lexer": "ipython3",
   "version": "3.8.12"
  }
 },
 "nbformat": 4,
 "nbformat_minor": 5
}
